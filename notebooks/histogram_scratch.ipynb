{
 "cells": [
  {
   "cell_type": "code",
   "execution_count": 52,
   "metadata": {},
   "outputs": [],
   "source": [
    "import os\n",
    "import glob\n",
    "import json\n",
    "\n",
    "import numpy as np\n",
    "import matplotlib.pyplot as plt\n",
    "import cv2"
   ]
  },
  {
   "cell_type": "code",
   "execution_count": 21,
   "metadata": {},
   "outputs": [],
   "source": [
    "SLICE_DIR = '/om2/scratch/tmp/sabeen/kwyk_data/kwyk_final_uncrop'\n",
    "\n",
    "with open(os.path.join(SLICE_DIR,'percent_backgrounds.json')) as f:\n",
    "    percent_backgrounds = json.load(f)\n",
    "\n",
    "all_percent = dict(filter(lambda x: 'orig' in x[0], percent_backgrounds.items()))\n",
    "train_percent = dict(filter(lambda x: 'train' in x[0] and 'orig' in x[0], percent_backgrounds.items()))"
   ]
  },
  {
   "cell_type": "code",
   "execution_count": 23,
   "metadata": {},
   "outputs": [],
   "source": [
    "percent_dict = train_percent"
   ]
  },
  {
   "cell_type": "code",
   "execution_count": 53,
   "metadata": {},
   "outputs": [
    {
     "name": "stdout",
     "output_type": "stream",
     "text": [
      "Histogram Counts:\n",
      "0.000-0.010: 0 (0.0%)\n",
      "0.010-0.020: 0 (0.0%)\n",
      "0.020-0.030: 0 (0.0%)\n",
      "0.030-0.040: 0 (0.0%)\n",
      "0.040-0.050: 0 (0.0%)\n",
      "0.050-0.060: 0 (0.0%)\n",
      "0.060-0.070: 0 (0.0%)\n",
      "0.070-0.080: 0 (0.0%)\n",
      "0.080-0.090: 0 (0.0%)\n",
      "0.090-0.100: 0 (0.0%)\n",
      "0.100-0.110: 0 (0.0%)\n",
      "0.110-0.120: 0 (0.0%)\n",
      "0.120-0.130: 0 (0.0%)\n",
      "0.130-0.140: 0 (0.0%)\n",
      "0.140-0.150: 0 (0.0%)\n",
      "0.150-0.160: 0 (0.0%)\n",
      "0.160-0.170: 0 (0.0%)\n",
      "0.170-0.180: 0 (0.0%)\n",
      "0.180-0.190: 0 (0.0%)\n",
      "0.190-0.200: 0 (0.0%)\n",
      "0.200-0.210: 0 (0.0%)\n",
      "0.210-0.220: 0 (0.0%)\n",
      "0.220-0.230: 0 (0.0%)\n",
      "0.230-0.240: 0 (0.0%)\n",
      "0.240-0.250: 0 (0.0%)\n",
      "0.250-0.260: 0 (0.0%)\n",
      "0.260-0.270: 0 (0.0%)\n",
      "0.270-0.280: 0 (0.0%)\n",
      "0.280-0.290: 0 (0.0%)\n",
      "0.290-0.300: 0 (0.0%)\n",
      "0.300-0.310: 0 (0.0%)\n",
      "0.310-0.320: 0 (0.0%)\n",
      "0.320-0.330: 0 (0.0%)\n",
      "0.330-0.340: 0 (0.0%)\n",
      "0.340-0.350: 0 (0.0%)\n",
      "0.350-0.360: 0 (0.0%)\n",
      "0.360-0.370: 0 (0.0%)\n",
      "0.370-0.380: 0 (0.0%)\n",
      "0.380-0.390: 0 (0.0%)\n",
      "0.390-0.400: 0 (0.0%)\n",
      "0.400-0.410: 0 (0.0%)\n",
      "0.410-0.420: 0 (0.0%)\n",
      "0.420-0.430: 0 (0.0%)\n",
      "0.430-0.440: 0 (0.0%)\n",
      "0.440-0.450: 0 (0.0%)\n",
      "0.450-0.460: 0 (0.0%)\n",
      "0.460-0.470: 0 (0.0%)\n",
      "0.470-0.480: 0 (0.0%)\n",
      "0.480-0.490: 0 (0.0%)\n",
      "0.490-0.500: 0 (0.0%)\n",
      "0.500-0.510: 0 (0.0%)\n",
      "0.510-0.520: 0 (0.0%)\n",
      "0.520-0.530: 0 (0.0%)\n",
      "0.530-0.540: 0 (0.0%)\n",
      "0.540-0.550: 0 (0.0%)\n",
      "0.550-0.560: 0 (0.0%)\n",
      "0.560-0.570: 0 (0.0%)\n",
      "0.570-0.580: 0 (0.0%)\n",
      "0.580-0.590: 0 (0.0%)\n",
      "0.590-0.600: 0 (0.0%)\n",
      "0.600-0.610: 0 (0.0%)\n",
      "0.610-0.620: 0 (0.0%)\n",
      "0.620-0.630: 0 (0.0%)\n",
      "0.630-0.640: 2 (2.8358561109296164e-05%)\n",
      "0.640-0.650: 30 (0.0004253784166394425%)\n",
      "0.650-0.660: 35 (0.0004962748194126829%)\n",
      "0.660-0.670: 36 (0.0005104540999673309%)\n",
      "0.670-0.680: 38 (0.0005388126610766271%)\n",
      "0.680-0.690: 54 (0.0007656811499509963%)\n",
      "0.690-0.700: 113 (0.0016022587026752332%)\n",
      "0.700-0.710: 271 (0.0038425850303096306%)\n",
      "0.710-0.720: 907 (0.01286060746306581%)\n",
      "0.720-0.730: 3972 (0.05632010236306218%)\n",
      "0.730-0.740: 12031 (0.17059092435297107%)\n",
      "0.740-0.750: 28000 (0.3970198555301463%)\n",
      "0.750-0.760: 49099 (0.6961884959526662%)\n",
      "0.760-0.770: 72312 (1.025332135467712%)\n",
      "0.770-0.780: 95097 (1.3484070429053685%)\n",
      "0.780-0.790: 123142 (1.746064966060474%)\n",
      "0.790-0.800: 167099 (2.3693436014011398%)\n",
      "0.800-0.810: 216669 (3.072210538495045%)\n",
      "0.810-0.820: 253849 (3.599396189516861%)\n",
      "0.820-0.830: 266121 (3.7734043204835017%)\n",
      "0.830-0.840: 258116 (3.6598991796435443%)\n",
      "0.840-0.850: 233605 (3.3123508339685652%)\n",
      "0.850-0.860: 206010 (2.9210735870630513%)\n",
      "0.860-0.870: 179204 (2.5409837925151546%)\n",
      "0.870-0.880: 161315 (2.2873306426730555%)\n",
      "0.880-0.890: 149704 (2.1226950161530365%)\n",
      "0.890-0.900: 141732 (2.009657791571382%)\n",
      "0.900-0.910: 139028 (1.9713170169516137%)\n",
      "0.910-0.920: 140327 (1.9897359023921015%)\n",
      "0.920-0.930: 143831 (2.039420101455588%)\n",
      "0.930-0.940: 143397 (2.033266293694871%)\n",
      "0.940-0.950: 139096 (1.9722812080293295%)\n",
      "0.950-0.960: 132541 (1.8793360239936114%)\n",
      "0.960-0.970: 123363 (1.7491985870630513%)\n",
      "0.970-0.980: 115904 (1.6434353334059313%)\n",
      "0.980-0.990: 116093 (1.6461152174307596%)\n",
      "0.990-1.000: 3240401 (45.9465548885622%)\n"
     ]
    }
   ],
   "source": [
    "bin_size = 0.01\n",
    "bins = np.arange(0, 1 + bin_size, bin_size)\n",
    "hist_counts, bin_edges = np.histogram(list(percent_dict.values()), bins=bins)\n",
    "total_count = sum(hist_counts)\n",
    "\n",
    "print(\"Histogram Counts:\")\n",
    "for count, bin_edge in zip(hist_counts, bin_edges[:-1]):\n",
    "    print(f\"{bin_edge:.3f}-{bin_edge + bin_size:.3f}: {count} ({count / total_count * 100}%)\")"
   ]
  },
  {
   "cell_type": "code",
   "execution_count": 56,
   "metadata": {},
   "outputs": [
    {
     "name": "stdout",
     "output_type": "stream",
     "text": [
      "0\n",
      "0\n",
      "0\n",
      "0\n",
      "0\n",
      "0\n",
      "0\n",
      "0\n",
      "0\n",
      "0\n",
      "0\n",
      "0\n",
      "0\n",
      "0\n",
      "0\n",
      "0\n",
      "0\n",
      "0\n",
      "0\n",
      "0\n",
      "0\n",
      "0\n",
      "0\n",
      "0\n",
      "0\n",
      "0\n",
      "0\n",
      "0\n",
      "0\n",
      "0\n",
      "0\n",
      "0\n",
      "0\n",
      "0\n",
      "0\n",
      "0\n",
      "0\n",
      "0\n",
      "0\n",
      "0\n",
      "0\n",
      "0\n",
      "0\n",
      "0\n",
      "0\n",
      "0\n",
      "0\n",
      "0\n",
      "0\n",
      "0\n",
      "0\n",
      "0\n",
      "0\n",
      "0\n",
      "0\n",
      "0\n",
      "0\n",
      "0\n",
      "0\n",
      "0\n",
      "0\n",
      "0\n",
      "0\n",
      "2\n",
      "32\n",
      "67\n",
      "103\n",
      "141\n",
      "195\n",
      "308\n",
      "579\n",
      "1486\n",
      "5458\n",
      "17489\n",
      "45489\n",
      "94588\n",
      "166900\n",
      "261997\n",
      "385139\n",
      "552238\n",
      "768907\n",
      "1022756\n",
      "1288877\n",
      "1546993\n",
      "1780598\n",
      "1986608\n",
      "2165812\n",
      "2327127\n",
      "2476831\n",
      "2618563\n",
      "2757591\n",
      "2897918\n",
      "3041749\n",
      "3185146\n",
      "3324242\n",
      "3456783\n",
      "3580146\n",
      "3696050\n",
      "3812143\n",
      "7052544\n"
     ]
    }
   ],
   "source": [
    "for i in range(1,len(hist_counts) + 1):\n",
    "    print(sum(hist_counts[:i]))"
   ]
  },
  {
   "cell_type": "code",
   "execution_count": 60,
   "metadata": {},
   "outputs": [],
   "source": [
    "percent_sorted = sorted(list(percent_dict.items()), key=lambda x: x[1])"
   ]
  },
  {
   "cell_type": "code",
   "execution_count": 70,
   "metadata": {},
   "outputs": [
    {
     "data": {
      "text/plain": [
       "('/om2/scratch/tmp/sabeen/kwyk_data/kwyk_final_uncrop/train/features/pac_1580_orig_063.npy',\n",
       " 0.980010986328125)"
      ]
     },
     "execution_count": 70,
     "metadata": {},
     "output_type": "execute_result"
    }
   ],
   "source": [
    "percent_sorted[3696050]"
   ]
  },
  {
   "cell_type": "code",
   "execution_count": 71,
   "metadata": {},
   "outputs": [],
   "source": [
    "feature_slice = np.load(percent_sorted[3696050][0])"
   ]
  },
  {
   "cell_type": "code",
   "execution_count": 72,
   "metadata": {},
   "outputs": [
    {
     "data": {
      "text/plain": [
       "<matplotlib.image.AxesImage at 0x14b0bed3ace0>"
      ]
     },
     "execution_count": 72,
     "metadata": {},
     "output_type": "execute_result"
    },
    {
     "data": {
      "image/png": "[encoded data removed]",
      "text/plain": [
       "<Figure size 640x480 with 1 Axes>"
      ]
     },
     "metadata": {},
     "output_type": "display_data"
    }
   ],
   "source": [
    "plt.imshow(feature_slice.squeeze(0),cmap='gray')"
   ]
  },
  {
   "cell_type": "code",
   "execution_count": null,
   "metadata": {},
   "outputs": [],
   "source": []
  },
  {
   "cell_type": "code",
   "execution_count": null,
   "metadata": {},
   "outputs": [],
   "source": []
  },
  {
   "cell_type": "code",
   "execution_count": null,
   "metadata": {},
   "outputs": [],
   "source": []
  },
  {
   "cell_type": "code",
   "execution_count": 50,
   "metadata": {},
   "outputs": [],
   "source": [
    "import nibabel as nib\n",
    "import matplotlib.pyplot as plt\n",
    "from nilearn import plotting\n",
    "from nobrainer.volume import standardize\n",
    "import numpy as np"
   ]
  },
  {
   "cell_type": "code",
   "execution_count": 32,
   "metadata": {},
   "outputs": [],
   "source": [
    "def load_brains(image_file: str, mask_file: str, file_path: str = ''):\n",
    "    # ensure that mask and image numbers match\n",
    "    image_nr = image_file.split(\"_\")[1]\n",
    "    mask_nr = mask_file.split(\"_\")[1]\n",
    "    assert image_nr == mask_nr, \"image and mask numbers do not match\"\n",
    "\n",
    "    if file_path != '':\n",
    "        image_path = os.path.join(file_path, image_file)\n",
    "        mask_path = os.path.join(file_path, mask_file)\n",
    "    else:\n",
    "        image_path = image_file\n",
    "        mask_path = mask_file\n",
    "\n",
    "    brain = nib.load(image_path)\n",
    "    brain_mask = nib.load(mask_path)\n",
    "\n",
    "    brain = brain.get_fdata()\n",
    "    brain_mask = brain_mask.get_fdata()\n",
    "    brain_mask = brain_mask.astype(int)\n",
    "    # apply skull stripping\n",
    "    brain[brain_mask == 0] = 0\n",
    "\n",
    "    return brain, brain_mask, image_nr"
   ]
  },
  {
   "cell_type": "code",
   "execution_count": null,
   "metadata": {},
   "outputs": [],
   "source": [
    "def save_volume(volume, aff, header, path, res=None, dtype=None, n_dims=3):\n",
    "    \"\"\"\n",
    "    Save a volume.\n",
    "    :param volume: volume to save\n",
    "    :param aff: affine matrix of the volume to save. If aff is None, the volume is saved with an identity affine matrix.\n",
    "    aff can also be set to 'FS', in which case the volume is saved with the affine matrix of FreeSurfer outputs.\n",
    "    :param header: header of the volume to save. If None, the volume is saved with a blank header.\n",
    "    :param path: path where to save the volume.\n",
    "    :param res: (optional) update the resolution in the header before saving the volume.\n",
    "    :param dtype: (optional) numpy dtype for the saved volume.\n",
    "    :param n_dims: (optional) number of dimensions, to avoid confusion in multi-channel case. Default is None, where\n",
    "    n_dims is automatically inferred.\n",
    "    \"\"\"\n",
    "\n",
    "    # mkdir(os.path.dirname(path))\n",
    "    if \".npz\" in path:\n",
    "        np.savez_compressed(path, vol_data=volume)\n",
    "    else:\n",
    "        if header is None:\n",
    "            header = nib.Nifti1Header()\n",
    "        if isinstance(aff, str):\n",
    "            if aff == \"FS\":\n",
    "                aff = np.array(\n",
    "                    [[-1, 0, 0, 0], [0, 0, 1, 0], [0, -1, 0, 0], [0, 0, 0, 1]]\n",
    "                )\n",
    "        elif aff is None:\n",
    "            aff = np.eye(4)\n",
    "        if dtype is not None:\n",
    "            if \"int\" in dtype:\n",
    "                volume = np.round(volume)\n",
    "            volume = volume.astype(dtype=dtype)\n",
    "            nifty = nib.Nifti1Image(volume, aff, header)\n",
    "            nifty.set_data_dtype(dtype)\n",
    "        else:\n",
    "            nifty = nib.Nifti1Image(volume, aff, header)\n",
    "        # if res is not None:\n",
    "        #     if n_dims is None:\n",
    "        #         n_dims, _ = get_dims(volume.shape)\n",
    "        #     res = reformat_to_list(res, length=n_dims, dtype=None)\n",
    "        #     nifty.header.set_zooms(res)\n",
    "        nib.save(nifty, path)\n",
    "    return nifty, path"
   ]
  },
  {
   "cell_type": "code",
   "execution_count": 53,
   "metadata": {},
   "outputs": [],
   "source": [
    "SOURCE_DIR_00 = \"/om2/scratch/tmp/sabeen/kwyk_data/kwyk/rawdata/\"\n",
    "features = sorted(glob.glob(os.path.join(SOURCE_DIR_00, \"*orig*\")))\n",
    "labels = sorted(glob.glob(os.path.join(SOURCE_DIR_00, \"*aseg*\")))"
   ]
  },
  {
   "cell_type": "code",
   "execution_count": null,
   "metadata": {},
   "outputs": [],
   "source": [
    "contains_3 = []\n",
    "for i in range(len(features)):\n",
    "    feature_vol, label_vol, _ = load_brains(features[i],labels[i])\n",
    "    feature_vol[label_vol == 0] = 0  # skull stripping?\n",
    "    feature_vol = feature_vol / 255.0\n",
    "    if np.sum(label_vol == 3) > 0:\n",
    "        contains_3.append((np.sum(label_vol == 3), i))"
   ]
  },
  {
   "cell_type": "code",
   "execution_count": 58,
   "metadata": {},
   "outputs": [],
   "source": [
    "import json\n",
    "with open('/om2/user/sabeen/tissue_labeling/misc/check_labels/contains_3.json') as f:\n",
    "    contains_3 = json.load(f)"
   ]
  },
  {
   "cell_type": "code",
   "execution_count": 59,
   "metadata": {},
   "outputs": [],
   "source": [
    "sorted_contains_3 = sorted(contains_3, key=lambda x: x[0], reverse=True)"
   ]
  },
  {
   "cell_type": "code",
   "execution_count": 60,
   "metadata": {},
   "outputs": [
    {
     "name": "stdout",
     "output_type": "stream",
     "text": [
      "3893\n",
      "11479\n",
      "[10, '/om2/scratch/tmp/sabeen/kwyk_data/kwyk/rawdata/pac_6746_orig.nii.gz', '/om2/scratch/tmp/sabeen/kwyk_data/kwyk/rawdata/pac_6746_aseg.nii.gz']\n",
      "[98, '/om2/scratch/tmp/sabeen/kwyk_data/kwyk/rawdata/pac_14018_orig.nii.gz', '/om2/scratch/tmp/sabeen/kwyk_data/kwyk/rawdata/pac_14018_aseg.nii.gz']\n"
     ]
    }
   ],
   "source": [
    "print(len(sorted_contains_3)), print(len(features))\n",
    "print(sorted_contains_3[-3140]) # only 753 volumes have >10 pixels that =3\n",
    "print(sorted_contains_3[-3849]) # only 44 volumes have >100 pixels that =3"
   ]
  },
  {
   "cell_type": "code",
   "execution_count": 13,
   "metadata": {},
   "outputs": [
    {
     "data": {
      "image/png": "[encoded data removed]",
      "text/plain": [
       "<Figure size 640x480 with 1 Axes>"
      ]
     },
     "metadata": {},
     "output_type": "display_data"
    }
   ],
   "source": [
    "below_100 = [item[0] for item in sorted_contains_3 if item[0] <= 100]\n",
    "above_100 = [item[0] for item in sorted_contains_3 if item[0] > 100]\n",
    "\n",
    "# Defining bins for each range\n",
    "bins_below_100 = list(range(0, 101, 1))  # Bin size 5 up to 100\n",
    "bins_above_100 = list(range(100, max(above_100) + 101, 100))  # Bin size 100 for values > 100\n",
    "\n",
    "# Creating subplots\n",
    "fig, ax = plt.subplots()\n",
    "\n",
    "# Creating histogram for values <= 100\n",
    "ax.hist(below_100, bins=bins_below_100, color='blue', label='<= 100')\n",
    "\n",
    "# Creating histogram for values > 100\n",
    "# ax.hist(above_100, bins=bins_above_100, color='orange', label='> 100')\n",
    "\n",
    "# Adding labels and title\n",
    "ax.set_xlabel('Value')\n",
    "ax.set_ylabel('Frequency')\n",
    "ax.set_title('Histogram of Class 3 Pixel Counts (<= 100)')\n",
    "ax.legend()\n",
    "\n",
    "# Setting the maximum limit for the y-axis\n",
    "# max_frequency = max(ax.hist(below_100, bins=bins_below_100)[0].max(), ax.hist(above_100, bins=bins_above_100)[0].max())\n",
    "# ax.set_ylim(0, max_frequency * 1.1)  # Setting a margin of 10% above the maximum frequency\n",
    "\n",
    "# Showing the plot\n",
    "plt.show()"
   ]
  },
  {
   "cell_type": "code",
   "execution_count": 11,
   "metadata": {},
   "outputs": [
    {
     "data": {
      "image/png": "[encoded data removed]",
      "text/plain": [
       "<Figure size 640x480 with 1 Axes>"
      ]
     },
     "metadata": {},
     "output_type": "display_data"
    }
   ],
   "source": [
    "below_100 = [item[0] for item in sorted_contains_3 if item[0] <= 100]\n",
    "above_100 = [item[0] for item in sorted_contains_3 if item[0] > 100]\n",
    "\n",
    "# Defining bins for each range\n",
    "bins_below_100 = list(range(0, 101, 5))  # Bin size 5 up to 100\n",
    "bins_above_100 = list(range(100, max(above_100) + 101, 100))  # Bin size 100 for values > 100\n",
    "\n",
    "# Creating subplots\n",
    "fig, ax = plt.subplots()\n",
    "\n",
    "# Creating histogram for values <= 100\n",
    "# ax.hist(below_100, bins=bins_below_100, color='blue', label='<= 100')\n",
    "\n",
    "# Creating histogram for values > 100\n",
    "ax.hist(above_100, bins=bins_above_100, color='orange', label='> 100')\n",
    "\n",
    "# Adding labels and title\n",
    "ax.set_xlabel('Value')\n",
    "ax.set_ylabel('Frequency')\n",
    "ax.set_title('Histogram of Class 3 Pixel Counts (> 100)')\n",
    "ax.legend()\n",
    "\n",
    "# Setting the maximum limit for the y-axis\n",
    "# max_frequency = max(ax.hist(below_100, bins=bins_below_100)[0].max(), ax.hist(above_100, bins=bins_above_100)[0].max())\n",
    "# ax.set_ylim(0, max_frequency * 1.1)  # Setting a margin of 10% above the maximum frequency\n",
    "\n",
    "# Showing the plot\n",
    "plt.show()"
   ]
  },
  {
   "cell_type": "code",
   "execution_count": null,
   "metadata": {},
   "outputs": [],
   "source": []
  },
  {
   "cell_type": "code",
   "execution_count": 22,
   "metadata": {},
   "outputs": [],
   "source": [
    "import numpy as np\n",
    "np_contains_3 = np.array([item[0] for item in sorted_contains_3])\n",
    "unique, counts = np.unique(np_contains_3, return_counts=True)\n",
    "pixel_count_to_num_vols = dict(zip(unique,counts))"
   ]
  },
  {
   "cell_type": "code",
   "execution_count": 47,
   "metadata": {},
   "outputs": [
    {
     "data": {
      "text/plain": [
       "<nilearn.plotting.displays._slicers.OrthoSlicer at 0x1457b6dc9480>"
      ]
     },
     "execution_count": 47,
     "metadata": {},
     "output_type": "execute_result"
    },
    {
     "data": {
      "image/png": "[encoded data removed]",
      "text/plain": [
       "<Figure size 1200x600 with 4 Axes>"
      ]
     },
     "metadata": {},
     "output_type": "display_data"
    }
   ],
   "source": [
    "import matplotlib.pyplot as plt\n",
    "from nilearn import plotting\n",
    "from nobrainer.volume import standardize\n",
    "\n",
    "count_3s, feature_path, label_path = sorted_contains_3[0]\n",
    "feature_vol, label_vol, _ = load_brains(feature_path, label_path)\n",
    "\n",
    "feature_vol[label_vol != 3] = 0.5\n",
    "feature_vol[label_vol == 0] = 0\n",
    "feature_vol[label_vol == 3] = 1\n",
    "\n",
    "nifty, path = save_volume(feature_vol, None, None, '/om2/user/sabeen/tissue_labeling/misc/filtered_vol_3')\n",
    "\n",
    "fig = plt.figure(figsize=(12, 6))\n",
    "plotting.plot_roi(\n",
    "    nifty,\n",
    "    bg_img='/om2/user/sabeen/tissue_labeling/misc/filtered_vol_3.nii',\n",
    "    # cut_coords=(0, 10, -21),\n",
    "    alpha=0.4,\n",
    "    vmin=0,\n",
    "    vmax=5,\n",
    "    figure=fig,\n",
    ")"
   ]
  },
  {
   "cell_type": "code",
   "execution_count": 65,
   "metadata": {},
   "outputs": [
    {
     "data": {
      "text/plain": [
       "0.17559329668765258"
      ]
     },
     "execution_count": 65,
     "metadata": {},
     "output_type": "execute_result"
    }
   ],
   "source": [
    "sorted_contains_3[0]\n",
    "sorted_contains_3[0][0] / int(np.sum(label_vol != 0)) * 100"
   ]
  }
 ],
 "metadata": {
  "kernelspec": {
   "display_name": "tissue_labeling",
   "language": "python",
   "name": "python3"
  },
  "language_info": {
   "codemirror_mode": {
    "name": "ipython",
    "version": 3
   },
   "file_extension": ".py",
   "mimetype": "text/x-python",
   "name": "python",
   "nbconvert_exporter": "python",
   "pygments_lexer": "ipython3",
   "version": "3.10.0"
  }
 },
 "nbformat": 4,
 "nbformat_minor": 2
}
