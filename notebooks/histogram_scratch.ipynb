{
 "cells": [
  {
   "cell_type": "code",
   "execution_count": 1,
   "metadata": {},
   "outputs": [],
   "source": [
    "import os\n",
    "import glob\n",
    "import json\n",
    "\n",
    "import numpy as np\n",
    "import matplotlib.pyplot as plt\n",
    "import cv2"
   ]
  },
  {
   "cell_type": "code",
   "execution_count": 21,
   "metadata": {},
   "outputs": [],
   "source": [
    "SLICE_DIR = '/om2/scratch/tmp/sabeen/kwyk_data/kwyk_final_uncrop'\n",
    "\n",
    "with open(os.path.join(SLICE_DIR,'percent_backgrounds.json')) as f:\n",
    "    percent_backgrounds = json.load(f)\n",
    "\n",
    "all_percent = dict(filter(lambda x: 'orig' in x[0], percent_backgrounds.items()))\n",
    "train_percent = dict(filter(lambda x: 'train' in x[0] and 'orig' in x[0], percent_backgrounds.items()))"
   ]
  },
  {
   "cell_type": "code",
   "execution_count": 23,
   "metadata": {},
   "outputs": [],
   "source": [
    "percent_dict = train_percent"
   ]
  },
  {
   "cell_type": "code",
   "execution_count": 53,
   "metadata": {},
   "outputs": [
    {
     "name": "stdout",
     "output_type": "stream",
     "text": [
      "Histogram Counts:\n",
      "0.000-0.010: 0 (0.0%)\n",
      "0.010-0.020: 0 (0.0%)\n",
      "0.020-0.030: 0 (0.0%)\n",
      "0.030-0.040: 0 (0.0%)\n",
      "0.040-0.050: 0 (0.0%)\n",
      "0.050-0.060: 0 (0.0%)\n",
      "0.060-0.070: 0 (0.0%)\n",
      "0.070-0.080: 0 (0.0%)\n",
      "0.080-0.090: 0 (0.0%)\n",
      "0.090-0.100: 0 (0.0%)\n",
      "0.100-0.110: 0 (0.0%)\n",
      "0.110-0.120: 0 (0.0%)\n",
      "0.120-0.130: 0 (0.0%)\n",
      "0.130-0.140: 0 (0.0%)\n",
      "0.140-0.150: 0 (0.0%)\n",
      "0.150-0.160: 0 (0.0%)\n",
      "0.160-0.170: 0 (0.0%)\n",
      "0.170-0.180: 0 (0.0%)\n",
      "0.180-0.190: 0 (0.0%)\n",
      "0.190-0.200: 0 (0.0%)\n",
      "0.200-0.210: 0 (0.0%)\n",
      "0.210-0.220: 0 (0.0%)\n",
      "0.220-0.230: 0 (0.0%)\n",
      "0.230-0.240: 0 (0.0%)\n",
      "0.240-0.250: 0 (0.0%)\n",
      "0.250-0.260: 0 (0.0%)\n",
      "0.260-0.270: 0 (0.0%)\n",
      "0.270-0.280: 0 (0.0%)\n",
      "0.280-0.290: 0 (0.0%)\n",
      "0.290-0.300: 0 (0.0%)\n",
      "0.300-0.310: 0 (0.0%)\n",
      "0.310-0.320: 0 (0.0%)\n",
      "0.320-0.330: 0 (0.0%)\n",
      "0.330-0.340: 0 (0.0%)\n",
      "0.340-0.350: 0 (0.0%)\n",
      "0.350-0.360: 0 (0.0%)\n",
      "0.360-0.370: 0 (0.0%)\n",
      "0.370-0.380: 0 (0.0%)\n",
      "0.380-0.390: 0 (0.0%)\n",
      "0.390-0.400: 0 (0.0%)\n",
      "0.400-0.410: 0 (0.0%)\n",
      "0.410-0.420: 0 (0.0%)\n",
      "0.420-0.430: 0 (0.0%)\n",
      "0.430-0.440: 0 (0.0%)\n",
      "0.440-0.450: 0 (0.0%)\n",
      "0.450-0.460: 0 (0.0%)\n",
      "0.460-0.470: 0 (0.0%)\n",
      "0.470-0.480: 0 (0.0%)\n",
      "0.480-0.490: 0 (0.0%)\n",
      "0.490-0.500: 0 (0.0%)\n",
      "0.500-0.510: 0 (0.0%)\n",
      "0.510-0.520: 0 (0.0%)\n",
      "0.520-0.530: 0 (0.0%)\n",
      "0.530-0.540: 0 (0.0%)\n",
      "0.540-0.550: 0 (0.0%)\n",
      "0.550-0.560: 0 (0.0%)\n",
      "0.560-0.570: 0 (0.0%)\n",
      "0.570-0.580: 0 (0.0%)\n",
      "0.580-0.590: 0 (0.0%)\n",
      "0.590-0.600: 0 (0.0%)\n",
      "0.600-0.610: 0 (0.0%)\n",
      "0.610-0.620: 0 (0.0%)\n",
      "0.620-0.630: 0 (0.0%)\n",
      "0.630-0.640: 2 (2.8358561109296164e-05%)\n",
      "0.640-0.650: 30 (0.0004253784166394425%)\n",
      "0.650-0.660: 35 (0.0004962748194126829%)\n",
      "0.660-0.670: 36 (0.0005104540999673309%)\n",
      "0.670-0.680: 38 (0.0005388126610766271%)\n",
      "0.680-0.690: 54 (0.0007656811499509963%)\n",
      "0.690-0.700: 113 (0.0016022587026752332%)\n",
      "0.700-0.710: 271 (0.0038425850303096306%)\n",
      "0.710-0.720: 907 (0.01286060746306581%)\n",
      "0.720-0.730: 3972 (0.05632010236306218%)\n",
      "0.730-0.740: 12031 (0.17059092435297107%)\n",
      "0.740-0.750: 28000 (0.3970198555301463%)\n",
      "0.750-0.760: 49099 (0.6961884959526662%)\n",
      "0.760-0.770: 72312 (1.025332135467712%)\n",
      "0.770-0.780: 95097 (1.3484070429053685%)\n",
      "0.780-0.790: 123142 (1.746064966060474%)\n",
      "0.790-0.800: 167099 (2.3693436014011398%)\n",
      "0.800-0.810: 216669 (3.072210538495045%)\n",
      "0.810-0.820: 253849 (3.599396189516861%)\n",
      "0.820-0.830: 266121 (3.7734043204835017%)\n",
      "0.830-0.840: 258116 (3.6598991796435443%)\n",
      "0.840-0.850: 233605 (3.3123508339685652%)\n",
      "0.850-0.860: 206010 (2.9210735870630513%)\n",
      "0.860-0.870: 179204 (2.5409837925151546%)\n",
      "0.870-0.880: 161315 (2.2873306426730555%)\n",
      "0.880-0.890: 149704 (2.1226950161530365%)\n",
      "0.890-0.900: 141732 (2.009657791571382%)\n",
      "0.900-0.910: 139028 (1.9713170169516137%)\n",
      "0.910-0.920: 140327 (1.9897359023921015%)\n",
      "0.920-0.930: 143831 (2.039420101455588%)\n",
      "0.930-0.940: 143397 (2.033266293694871%)\n",
      "0.940-0.950: 139096 (1.9722812080293295%)\n",
      "0.950-0.960: 132541 (1.8793360239936114%)\n",
      "0.960-0.970: 123363 (1.7491985870630513%)\n",
      "0.970-0.980: 115904 (1.6434353334059313%)\n",
      "0.980-0.990: 116093 (1.6461152174307596%)\n",
      "0.990-1.000: 3240401 (45.9465548885622%)\n"
     ]
    }
   ],
   "source": [
    "bin_size = 0.01\n",
    "bins = np.arange(0, 1 + bin_size, bin_size)\n",
    "hist_counts, bin_edges = np.histogram(list(percent_dict.values()), bins=bins)\n",
    "total_count = sum(hist_counts)\n",
    "\n",
    "print(\"Histogram Counts:\")\n",
    "for count, bin_edge in zip(hist_counts, bin_edges[:-1]):\n",
    "    print(f\"{bin_edge:.3f}-{bin_edge + bin_size:.3f}: {count} ({count / total_count * 100}%)\")"
   ]
  },
  {
   "cell_type": "code",
   "execution_count": 56,
   "metadata": {},
   "outputs": [
    {
     "name": "stdout",
     "output_type": "stream",
     "text": [
      "0\n",
      "0\n",
      "0\n",
      "0\n",
      "0\n",
      "0\n",
      "0\n",
      "0\n",
      "0\n",
      "0\n",
      "0\n",
      "0\n",
      "0\n",
      "0\n",
      "0\n",
      "0\n",
      "0\n",
      "0\n",
      "0\n",
      "0\n",
      "0\n",
      "0\n",
      "0\n",
      "0\n",
      "0\n",
      "0\n",
      "0\n",
      "0\n",
      "0\n",
      "0\n",
      "0\n",
      "0\n",
      "0\n",
      "0\n",
      "0\n",
      "0\n",
      "0\n",
      "0\n",
      "0\n",
      "0\n",
      "0\n",
      "0\n",
      "0\n",
      "0\n",
      "0\n",
      "0\n",
      "0\n",
      "0\n",
      "0\n",
      "0\n",
      "0\n",
      "0\n",
      "0\n",
      "0\n",
      "0\n",
      "0\n",
      "0\n",
      "0\n",
      "0\n",
      "0\n",
      "0\n",
      "0\n",
      "0\n",
      "2\n",
      "32\n",
      "67\n",
      "103\n",
      "141\n",
      "195\n",
      "308\n",
      "579\n",
      "1486\n",
      "5458\n",
      "17489\n",
      "45489\n",
      "94588\n",
      "166900\n",
      "261997\n",
      "385139\n",
      "552238\n",
      "768907\n",
      "1022756\n",
      "1288877\n",
      "1546993\n",
      "1780598\n",
      "1986608\n",
      "2165812\n",
      "2327127\n",
      "2476831\n",
      "2618563\n",
      "2757591\n",
      "2897918\n",
      "3041749\n",
      "3185146\n",
      "3324242\n",
      "3456783\n",
      "3580146\n",
      "3696050\n",
      "3812143\n",
      "7052544\n"
     ]
    }
   ],
   "source": [
    "for i in range(1,len(hist_counts) + 1):\n",
    "    print(sum(hist_counts[:i]))"
   ]
  },
  {
   "cell_type": "code",
   "execution_count": 60,
   "metadata": {},
   "outputs": [],
   "source": [
    "percent_sorted = sorted(list(percent_dict.items()), key=lambda x: x[1])"
   ]
  },
  {
   "cell_type": "code",
   "execution_count": 70,
   "metadata": {},
   "outputs": [
    {
     "data": {
      "text/plain": [
       "('/om2/scratch/tmp/sabeen/kwyk_data/kwyk_final_uncrop/train/features/pac_1580_orig_063.npy',\n",
       " 0.980010986328125)"
      ]
     },
     "execution_count": 70,
     "metadata": {},
     "output_type": "execute_result"
    }
   ],
   "source": [
    "percent_sorted[3696050]"
   ]
  },
  {
   "cell_type": "code",
   "execution_count": 71,
   "metadata": {},
   "outputs": [],
   "source": [
    "feature_slice = np.load(percent_sorted[3696050][0])"
   ]
  },
  {
   "cell_type": "code",
   "execution_count": 72,
   "metadata": {},
   "outputs": [
    {
     "data": {
      "text/plain": [
       "<matplotlib.image.AxesImage at 0x14b0bed3ace0>"
      ]
     },
     "execution_count": 72,
     "metadata": {},
     "output_type": "execute_result"
    },
    {
     "data": {
      "image/png": "[encoded data removed]",
      "text/plain": [
       "<Figure size 640x480 with 1 Axes>"
      ]
     },
     "metadata": {},
     "output_type": "display_data"
    }
   ],
   "source": [
    "plt.imshow(feature_slice.squeeze(0),cmap='gray')"
   ]
  }
 ],
 "metadata": {
  "kernelspec": {
   "display_name": "tissue_labeling",
   "language": "python",
   "name": "python3"
  },
  "language_info": {
   "codemirror_mode": {
    "name": "ipython",
    "version": 3
   },
   "file_extension": ".py",
   "mimetype": "text/x-python",
   "name": "python",
   "nbconvert_exporter": "python",
   "pygments_lexer": "ipython3",
   "version": "3.10.0"
  }
 },
 "nbformat": 4,
 "nbformat_minor": 2
}
