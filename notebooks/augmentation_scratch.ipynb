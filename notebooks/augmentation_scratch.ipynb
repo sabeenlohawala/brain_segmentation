{
 "cells": [
  {
   "cell_type": "markdown",
   "id": "ebf151f8-557f-45c6-8def-4908a4eb9429",
   "metadata": {},
   "source": [
    "## Necessary Imports"
   ]
  },
  {
   "cell_type": "code",
   "execution_count": 1,
   "id": "6af37f3e-3f15-4989-b537-4ea82b92f34c",
   "metadata": {},
   "outputs": [],
   "source": [
    "import os\n",
    "import glob\n",
    "\n",
    "import numpy as np\n",
    "import torch\n",
    "\n",
    "from scipy.ndimage import affine_transform"
   ]
  },
  {
   "cell_type": "code",
   "execution_count": 25,
   "id": "8a508336-4c70-45e8-90bf-cc83d8bf47d1",
   "metadata": {},
   "outputs": [],
   "source": [
    "import cv2\n",
    "from PIL import Image"
   ]
  },
  {
   "cell_type": "markdown",
   "id": "bf0e7ea4-8783-4e58-9001-0b74b3709dac",
   "metadata": {},
   "source": [
    "## Visualizing"
   ]
  },
  {
   "cell_type": "markdown",
   "id": "fb6c0718-30c2-4abd-962c-e809a6fc09e4",
   "metadata": {},
   "source": [
    "### Helpers From Log_Images class"
   ]
  },
  {
   "cell_type": "code",
   "execution_count": 33,
   "id": "a7d4ff9f-76f7-49fe-ac21-8770caa3e401",
   "metadata": {},
   "outputs": [],
   "source": [
    "class Log_Images:\n",
    "    def __init__(\n",
    "        self,\n",
    "        # fabric: L.Fabric,\n",
    "        config,\n",
    "        writer=None,\n",
    "    ):\n",
    "        self.wandb_on = config.wandb_on\n",
    "        self.pretrained = config.pretrained\n",
    "        self.model_name = config.model_name\n",
    "        self.nr_of_classes = config.nr_of_classes\n",
    "        self.writer = writer\n",
    "        if self.model_name == 'simple_unet':\n",
    "            self.image_shape = (160,192)\n",
    "        else:\n",
    "            self.image_shape = (162,194)\n",
    "\n",
    "        # color map to get always the same colors for classes\n",
    "        if config.nr_of_classes in [2,7,51,107]: # freesurfer colors available\n",
    "            colors = self.__rgb_map_for_data(config.nr_of_classes)\n",
    "        else:\n",
    "            colors = plt.cm.hsv(np.linspace(0, 1, config.nr_of_classes))\n",
    "            colors = colors[:,:-1] * 255\n",
    "        self.color_range = np.zeros((256,3))\n",
    "        self.color_range[:colors.shape[0],:] = colors\n",
    "\n",
    "        # load always the same image from validation set\n",
    "        image_file = \"pac_36_orig.nii.gz\"\n",
    "        mask_file = \"pac_36_aseg.nii.gz\"\n",
    "        file_path = \"/om2/user/matth406/nobrainer_data/data/SharedData/segmentation/freesurfer_asegs/\"\n",
    "        brain, mask, _ = load_brains(image_file, mask_file, file_path)\n",
    "        mask = mapping(mask,nr_of_classes=self.nr_of_classes)\n",
    "\n",
    "        self.brain_slices, self.mask_slices = [], []\n",
    "\n",
    "        # randomly select slices in 3 directions\n",
    "        self.slice_idx = [125, 150]\n",
    "        normalization_constants = np.load(\n",
    "            \"/om2/user/matth406/nobrainer_data_norm/data_prepared_medium/normalization_constants.npy\"\n",
    "        )\n",
    "        self.brain_slices = torch.empty((len(self.slice_idx) * 3, 1, self.image_shape[0], self.image_shape[1]))\n",
    "        self.mask_slices = torch.empty((len(self.slice_idx) * 3, 1, self.image_shape[0], self.image_shape[1]),dtype=torch.long)\n",
    "        i = 0\n",
    "        self.logging_dict = {}\n",
    "        for d in range(3):\n",
    "            for slice_id in self.slice_idx:\n",
    "                if d == 0:\n",
    "                    brain_slice = crop(brain[slice_id, :, :], self.image_shape[0], self.image_shape[1])\n",
    "                    mask_slice = crop(mask[slice_id, :, :], self.image_shape[0], self.image_shape[1])\n",
    "                if d == 1:\n",
    "                    brain_slice = crop(brain[:, slice_id, :], self.image_shape[0], self.image_shape[1])\n",
    "                    mask_slice = crop(mask[:, slice_id, :], self.image_shape[0], self.image_shape[1])\n",
    "                if d == 2:\n",
    "                    brain_slice = crop(brain[:, :, slice_id], self.image_shape[0], self.image_shape[1])\n",
    "                    mask_slice = crop(mask[:, :, slice_id], self.image_shape[0], self.image_shape[1])\n",
    "\n",
    "                self.logging_dict[f\"Image d{d} c{slice_id}\"] = self.__create_plot(\n",
    "                    self.wandb_on, brain_slice, caption=\"Raw Image\",#fig_path=f'/om2/user/sabeen/test_imgs/raw_d{d}_c{slice_id}_fs.png'\n",
    "                )\n",
    "                self.logging_dict[f\"True Mask d{d} c{slice_id}\"] = self.__create_plot(\n",
    "                    self.wandb_on,\n",
    "                    mask_slice,\n",
    "                    caption=\"True Mask\",\n",
    "                    color_range=self.color_range,\n",
    "                    # fig_path=f'/om2/user/sabeen/test_imgs/true_mask_d{d}_c{slice_id}_fs.png'\n",
    "                )\n",
    "                brain_slice = (\n",
    "                    brain_slice - normalization_constants[0]\n",
    "                ) / normalization_constants[1]\n",
    "                brain_slice = torch.from_numpy(brain_slice).to(torch.float32)\n",
    "                brain_slice = brain_slice[None, None]\n",
    "                self.brain_slices[i] = brain_slice\n",
    "\n",
    "                mask_slice = torch.tensor(mask_slice)[None, None].long()\n",
    "                self.mask_slices[i] = mask_slice\n",
    "\n",
    "                i += 1\n",
    "\n",
    "        # send all slices to device\n",
    "        if self.pretrained:\n",
    "            self.brain_slices = self.brain_slices.repeat((1, 3, 1, 1))\n",
    "        self.brain_slices = fabric.to_device(self.brain_slices)\n",
    "        self.mask_slices = fabric.to_device(self.mask_slices)\n",
    "\n",
    "    @torch.no_grad()\n",
    "    def logging(self, model, epoch: int, commit: bool):\n",
    "        model.eval()\n",
    "        probs = model(self.brain_slices)\n",
    "        probs = probs.argmax(1)\n",
    "        probs = probs.cpu()\n",
    "        model.train()\n",
    "\n",
    "        i = 0\n",
    "        logging_dict = {}\n",
    "        for d in range(3):\n",
    "            for slice_id in self.slice_idx:\n",
    "                logging_dict[f\"Predicted Mask d{d} c{slice_id}\"] = self.__create_plot(\n",
    "                    self.wandb_on,\n",
    "                    probs[i].numpy(),\n",
    "                    caption=f\"Epoch {epoch}\",\n",
    "                    color_range=self.color_range,\n",
    "                    # fig_path=f'/om2/user/sabeen/test_imgs/predicted_mask_d{d}_c{slice_id}_fs.png'\n",
    "                )\n",
    "                i += 1\n",
    "        current_logging_dict = self.logging_dict | logging_dict\n",
    "        if self.wandb_on:\n",
    "            wandb.log(current_logging_dict, commit=commit)\n",
    "        \n",
    "        if self.writer is not None:\n",
    "            print('Logging images...')\n",
    "            # only log raw image and true mask once\n",
    "            if epoch == 1:\n",
    "                for key, img in self.logging_dict.items():\n",
    "                    img = np.array(img)\n",
    "                    if len(img.shape) == 3:\n",
    "                        self.writer.add_image(key, np.array(img), epoch, dataformats='HWC')\n",
    "                    elif len(img.shape) == 2:\n",
    "                        self.writer.add_image(key, np.array(img), epoch, dataformats='HW')\n",
    "            \n",
    "            # log predicted masks each time\n",
    "            for key, img in logging_dict.items():\n",
    "                img = np.array(img)\n",
    "                if len(img.shape) == 3:\n",
    "                    self.writer.add_image(key, np.array(img), epoch, dataformats='HWC')\n",
    "                elif len(img.shape) == 2:\n",
    "                    self.writer.add_image(key, np.array(img), epoch, dataformats='HW')\n",
    "    \n",
    "\n",
    "def __create_plot(\n",
    "    wandb_on,\n",
    "    image: np.array,\n",
    "    caption: str,\n",
    "    color_range = None,\n",
    "    fig_path: str = None,\n",
    "):\n",
    "    if fig_path is not None and len(fig_path.split('.')) == 1:\n",
    "        fig_path = fig_path + '.png'\n",
    "        \n",
    "    if color_range is not None:\n",
    "        image = image.astype(np.uint8)\n",
    "        channels = [cv2.LUT(image, color_range[:,i]) for i in range(3)]\n",
    "        new_img = np.dstack(channels)\n",
    "    \n",
    "        if fig_path is not None:\n",
    "            new_img_bgr = np.dstack([channels[2],channels[1],channels[0]])\n",
    "            cv2.imwrite(fig_path,new_img_bgr)\n",
    "        image = Image.fromarray(np.uint8(new_img))\n",
    "    else:\n",
    "        img_min = np.min(image)\n",
    "        img_max = np.max(image)\n",
    "        new_img = ((image - img_min) / (img_max - img_min) * 255).astype(np.uint8)\n",
    "        if fig_path is not None:\n",
    "            cv2.imwrite(fig_path,new_img)\n",
    "        image = Image.fromarray(np.uint8(new_img))\n",
    "    if wandb_on:\n",
    "            image = wandb.Image(image, caption=caption)\n",
    "    return image\n",
    "    \n",
    "def __extract_numbers_names_colors(FreeSurferColorLUT=''):\n",
    "    \"\"\"\n",
    "    Extract lists of numbers, names, and colors representing anatomical brain\n",
    "    regions from FreeSurfer's FreeSurferColorLUT.txt lookup table file.\n",
    "\n",
    "    Parameters\n",
    "    ----------\n",
    "    FreeSurferColorLUT : string\n",
    "        full path to FreeSurferColorLUT.txt file (else uses local Python file)\n",
    "\n",
    "    Returns\n",
    "    -------\n",
    "    numbers : list of integers\n",
    "        numbers representing anatomical labels from FreeSurferColorLUT.txt\n",
    "    names : list of integers\n",
    "        names for anatomical regions from FreeSurferColorLUT.txt\n",
    "    colors : list of integers\n",
    "        colors associated with anatomical labels from FreeSurferColorLUT.txt\n",
    "\n",
    "    Examples\n",
    "    --------\n",
    "    >>> from mindboggle.mio.labels import extract_numbers_names_colors # doctest: +SKIP\n",
    "    >>> ennc = extract_numbers_names_colors # doctest: +SKIP\n",
    "    >>> en1,en2,ec = ennc('/Applications/freesurfer/FreeSurferColorLUT.txt') # doctest: +SKIP\n",
    "\n",
    "    \"\"\"\n",
    "    import os\n",
    "    from io import open\n",
    "\n",
    "    # from ext.mindboggle.FreeSurferColorLUT import lut_text\n",
    "\n",
    "    def is_number(s):\n",
    "        try:\n",
    "            int(s)\n",
    "            return True\n",
    "        except ValueError:\n",
    "            return False\n",
    "\n",
    "    # if os.environ['FREESURFER_HOME']:\n",
    "    #     FreeSurferColorLUT = os.path.join(\n",
    "    #              os.environ['FREESURFER_HOME'], 'FreeSurferColorLUT.txt')\n",
    "\n",
    "    if FreeSurferColorLUT and os.path.exists(FreeSurferColorLUT):\n",
    "        f = open(FreeSurferColorLUT, 'r')\n",
    "        lines = f.readlines()\n",
    "    # else:\n",
    "    #     lut = lut_text()\n",
    "    #     lines = lut.split('\\n')\n",
    "\n",
    "    numbers = []\n",
    "    names = []\n",
    "    colors = []\n",
    "    for line in lines:\n",
    "        strings = line.split()\n",
    "        if strings and is_number(strings[0]):\n",
    "            numbers.append(int(strings[0]))\n",
    "            names.append(strings[1])\n",
    "            colors.append([int(strings[2]), int(strings[3]),\n",
    "                        int(strings[4])])\n",
    "\n",
    "    return numbers, names, colors\n",
    "\n",
    "def __rgb_map_for_data(nr_of_classes):\n",
    "    _, fs_names, fs_colors = __extract_numbers_names_colors(\n",
    "        \"/om2/user/sabeen/freesurfer/distribution/FreeSurferColorLUT.txt\"\n",
    "    )\n",
    "\n",
    "    with open(\"/om2/user/sabeen/readme\", \"r\") as f:\n",
    "        voxmorph_label_index = f.read().splitlines()\n",
    "\n",
    "    # get the last 24 lines of the readme file (format--> id: name)\n",
    "    if nr_of_classes == 51:\n",
    "        voxmorph_label_index = [\n",
    "            item.strip().split(\":\") for item in voxmorph_label_index[200:251] if item != \"\"\n",
    "        ] # HACK\n",
    "    elif nr_of_classes == 107:\n",
    "        voxmorph_label_index = [\n",
    "            item.strip().split(\":\") for item in voxmorph_label_index[91:198] if item != \"\"\n",
    "        ] # HACK\n",
    "    elif nr_of_classes == 7:\n",
    "        voxmorph_label_index = [\n",
    "            item.strip().split(\":\") for item in voxmorph_label_index[253:260] if item != \"\"\n",
    "        ] # HACK\n",
    "    elif nr_of_classes == 2:\n",
    "        voxmorph_label_index = [\n",
    "            item.strip().split(\":\") for item in voxmorph_label_index[262:264] if item != \"\"\n",
    "        ] # HACK\n",
    "    else:\n",
    "        raise Exception(f'coloring for nr_of_classes = {nr_of_classes} not found')\n",
    "    \n",
    "    voxmorph_label_index = [\n",
    "        [int(item[0]), item[1].strip()] for item in voxmorph_label_index\n",
    "    ]\n",
    "    voxmorph_label_index_dict = dict(voxmorph_label_index)\n",
    "    my_colors = [\n",
    "        fs_colors[fs_names.index(item)] for item in voxmorph_label_index_dict.values()\n",
    "    ]\n",
    "\n",
    "    return np.array(my_colors)"
   ]
  },
  {
   "cell_type": "code",
   "execution_count": 126,
   "id": "3e71367e-6f5b-437d-bae8-57441705899c",
   "metadata": {},
   "outputs": [],
   "source": [
    "data_dir = '/om2/user/sabeen/nobrainer_data_norm/new_small_no_aug_51'\n",
    "aug_dir = '/om2/user/sabeen/nobrainer_data_norm/20240202_small_aug_51'\n",
    "mode = 'validation'"
   ]
  },
  {
   "cell_type": "code",
   "execution_count": 127,
   "id": "fdda8fd4-65f6-44a2-b55d-95ed545b84c2",
   "metadata": {},
   "outputs": [],
   "source": [
    "images = sorted(glob.glob(f\"{data_dir}/{mode}/brain*.npy\"))\n",
    "masks = sorted(glob.glob(f\"{data_dir}/{mode}/mask*.npy\"))\n",
    "affines = sorted(glob.glob(f\"{aug_dir}/{mode}/affine*.npy\"))"
   ]
  },
  {
   "cell_type": "code",
   "execution_count": 128,
   "id": "430c07b5-c94a-4d19-b6d3-52acd14f1a3f",
   "metadata": {},
   "outputs": [
    {
     "data": {
      "text/plain": [
       "True"
      ]
     },
     "execution_count": 128,
     "metadata": {},
     "output_type": "execute_result"
    }
   ],
   "source": [
    "len(images) == len(masks) == len(affines)"
   ]
  },
  {
   "cell_type": "code",
   "execution_count": 130,
   "id": "02df84b8-836d-434c-866d-91d3e17e498c",
   "metadata": {},
   "outputs": [],
   "source": [
    "colors = __rgb_map_for_data(51)\n",
    "color_range = np.zeros((256,3))\n",
    "color_range[:colors.shape[0],:] = colors"
   ]
  },
  {
   "cell_type": "code",
   "execution_count": 131,
   "id": "82aacb88-ef77-454c-8ceb-3da8739bb5af",
   "metadata": {},
   "outputs": [],
   "source": [
    "idx = 100\n",
    "image = np.load(images[idx])\n",
    "mask = np.load(masks[idx])\n",
    "affine = np.load(affines[idx])"
   ]
  },
  {
   "cell_type": "code",
   "execution_count": 132,
   "id": "f071483b-ea2e-4728-9ab1-84fc75a2a6d0",
   "metadata": {},
   "outputs": [
    {
     "data": {
      "image/jpeg": "[encoded data removed]",
      "image/png": "[encoded data removed]",
      "text/plain": [
       "<PIL.Image.Image image mode=RGB size=194x162>"
      ]
     },
     "execution_count": 132,
     "metadata": {},
     "output_type": "execute_result"
    }
   ],
   "source": [
    "__create_plot(False,mask.squeeze().astype(np.uint8),'',color_range=color_range)"
   ]
  },
  {
   "cell_type": "code",
   "execution_count": 133,
   "id": "13c5938d-8af8-46e6-8e71-f9a2e9d57149",
   "metadata": {},
   "outputs": [],
   "source": [
    "m = affine_transform(mask.squeeze().astype(np.uint8),affine,order=0)"
   ]
  },
  {
   "cell_type": "code",
   "execution_count": 134,
   "id": "ed8db589-d8ed-4ced-a1e8-f8de3769339a",
   "metadata": {},
   "outputs": [
    {
     "data": {
      "image/jpeg": "[encoded data removed]",
      "image/png": "[encoded data removed]",
      "text/plain": [
       "<PIL.Image.Image image mode=RGB size=194x162>"
      ]
     },
     "execution_count": 134,
     "metadata": {},
     "output_type": "execute_result"
    }
   ],
   "source": [
    "__create_plot(False,m,'',color_range=color_range)"
   ]
  },
  {
   "cell_type": "code",
   "execution_count": 142,
   "id": "540271af-f5e1-48f6-8d37-ec4689a8447d",
   "metadata": {},
   "outputs": [
    {
     "data": {
      "text/plain": [
       "(1, 162, 194)"
      ]
     },
     "execution_count": 142,
     "metadata": {},
     "output_type": "execute_result"
    }
   ],
   "source": [
    "torch.from_numpy(m).unsqueeze(dim=0).shape"
   ]
  }
 ],
 "metadata": {
  "kernelspec": {
   "display_name": "Python 3 (ipykernel)",
   "language": "python",
   "name": "python3"
  },
  "language_info": {
   "codemirror_mode": {
    "name": "ipython",
    "version": 3
   },
   "file_extension": ".py",
   "mimetype": "text/x-python",
   "name": "python",
   "nbconvert_exporter": "python",
   "pygments_lexer": "ipython3",
   "version": "3.9.18"
  }
 },
 "nbformat": 4,
 "nbformat_minor": 5
}
