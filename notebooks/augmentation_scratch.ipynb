{
 "cells": [
  {
   "cell_type": "markdown",
   "id": "ebf151f8-557f-45c6-8def-4908a4eb9429",
   "metadata": {},
   "source": [
    "## Necessary Imports"
   ]
  },
  {
   "cell_type": "code",
   "execution_count": 2,
   "id": "6af37f3e-3f15-4989-b537-4ea82b92f34c",
   "metadata": {},
   "outputs": [],
   "source": [
    "import os\n",
    "import glob\n",
    "\n",
    "import numpy as np\n",
    "import torch\n",
    "\n",
    "from scipy.ndimage import affine_transform, zoom"
   ]
  },
  {
   "cell_type": "code",
   "execution_count": 3,
   "id": "8a508336-4c70-45e8-90bf-cc83d8bf47d1",
   "metadata": {},
   "outputs": [],
   "source": [
    "import cv2\n",
    "from PIL import Image"
   ]
  },
  {
   "cell_type": "markdown",
   "id": "bf0e7ea4-8783-4e58-9001-0b74b3709dac",
   "metadata": {},
   "source": [
    "## Visualizing"
   ]
  },
  {
   "cell_type": "markdown",
   "id": "fb6c0718-30c2-4abd-962c-e809a6fc09e4",
   "metadata": {},
   "source": [
    "### Rotations"
   ]
  },
  {
   "cell_type": "code",
   "execution_count": 6,
   "id": "a7d4ff9f-76f7-49fe-ac21-8770caa3e401",
   "metadata": {},
   "outputs": [],
   "source": [
    "class Log_Images:\n",
    "    def __init__(\n",
    "        self,\n",
    "        # fabric: L.Fabric,\n",
    "        config,\n",
    "        writer=None,\n",
    "    ):\n",
    "        self.wandb_on = config.wandb_on\n",
    "        self.pretrained = config.pretrained\n",
    "        self.model_name = config.model_name\n",
    "        self.nr_of_classes = config.nr_of_classes\n",
    "        self.writer = writer\n",
    "        if self.model_name == 'simple_unet':\n",
    "            self.image_shape = (160,192)\n",
    "        else:\n",
    "            self.image_shape = (162,194)\n",
    "\n",
    "        # color map to get always the same colors for classes\n",
    "        if config.nr_of_classes in [2,6,16,50,106]: # freesurfer colors available\n",
    "            colors = self.__rgb_map_for_data(config.nr_of_classes)\n",
    "        else:\n",
    "            colors = plt.cm.hsv(np.linspace(0, 1, config.nr_of_classes))\n",
    "            colors = colors[:,:-1] * 255\n",
    "        self.color_range = np.zeros((256,3))\n",
    "        self.color_range[:colors.shape[0],:] = colors\n",
    "\n",
    "        # load always the same image from validation set\n",
    "        image_file = \"pac_36_orig.nii.gz\"\n",
    "        mask_file = \"pac_36_aseg.nii.gz\"\n",
    "        file_path = \"/om2/user/matth406/nobrainer_data/data/SharedData/segmentation/freesurfer_asegs/\"\n",
    "        brain, mask, _ = load_brains(image_file, mask_file, file_path)\n",
    "        mask = mapping(mask,nr_of_classes=self.nr_of_classes)\n",
    "\n",
    "        self.brain_slices, self.mask_slices = [], []\n",
    "\n",
    "        # randomly select slices in 3 directions\n",
    "        self.slice_idx = [125, 150]\n",
    "        normalization_constants = np.load(\n",
    "            \"/om2/user/matth406/nobrainer_data_norm/data_prepared_medium/normalization_constants.npy\"\n",
    "        )\n",
    "        self.brain_slices = torch.empty((len(self.slice_idx) * 3, 1, self.image_shape[0], self.image_shape[1]))\n",
    "        self.mask_slices = torch.empty((len(self.slice_idx) * 3, 1, self.image_shape[0], self.image_shape[1]),dtype=torch.long)\n",
    "        i = 0\n",
    "        self.logging_dict = {}\n",
    "        for d in range(3):\n",
    "            for slice_id in self.slice_idx:\n",
    "                if d == 0:\n",
    "                    brain_slice = crop(brain[slice_id, :, :], self.image_shape[0], self.image_shape[1])\n",
    "                    mask_slice = crop(mask[slice_id, :, :], self.image_shape[0], self.image_shape[1])\n",
    "                if d == 1:\n",
    "                    brain_slice = crop(brain[:, slice_id, :], self.image_shape[0], self.image_shape[1])\n",
    "                    mask_slice = crop(mask[:, slice_id, :], self.image_shape[0], self.image_shape[1])\n",
    "                if d == 2:\n",
    "                    brain_slice = crop(brain[:, :, slice_id], self.image_shape[0], self.image_shape[1])\n",
    "                    mask_slice = crop(mask[:, :, slice_id], self.image_shape[0], self.image_shape[1])\n",
    "\n",
    "                self.logging_dict[f\"Image d{d} c{slice_id}\"] = self.__create_plot(\n",
    "                    self.wandb_on, brain_slice, caption=\"Raw Image\",#fig_path=f'/om2/user/sabeen/test_imgs/raw_d{d}_c{slice_id}_fs.png'\n",
    "                )\n",
    "                self.logging_dict[f\"True Mask d{d} c{slice_id}\"] = self.__create_plot(\n",
    "                    self.wandb_on,\n",
    "                    mask_slice,\n",
    "                    caption=\"True Mask\",\n",
    "                    color_range=self.color_range,\n",
    "                    # fig_path=f'/om2/user/sabeen/test_imgs/true_mask_d{d}_c{slice_id}_fs.png'\n",
    "                )\n",
    "                brain_slice = (\n",
    "                    brain_slice - normalization_constants[0]\n",
    "                ) / normalization_constants[1]\n",
    "                brain_slice = torch.from_numpy(brain_slice).to(torch.float32)\n",
    "                brain_slice = brain_slice[None, None]\n",
    "                self.brain_slices[i] = brain_slice\n",
    "\n",
    "                mask_slice = torch.tensor(mask_slice)[None, None].long()\n",
    "                self.mask_slices[i] = mask_slice\n",
    "\n",
    "                i += 1\n",
    "\n",
    "        # send all slices to device\n",
    "        if self.pretrained:\n",
    "            self.brain_slices = self.brain_slices.repeat((1, 3, 1, 1))\n",
    "        self.brain_slices = fabric.to_device(self.brain_slices)\n",
    "        self.mask_slices = fabric.to_device(self.mask_slices)\n",
    "\n",
    "    @torch.no_grad()\n",
    "    def logging(self, model, epoch: int, commit: bool):\n",
    "        model.eval()\n",
    "        probs = model(self.brain_slices)\n",
    "        probs = probs.argmax(1)\n",
    "        probs = probs.cpu()\n",
    "        model.train()\n",
    "\n",
    "        i = 0\n",
    "        logging_dict = {}\n",
    "        for d in range(3):\n",
    "            for slice_id in self.slice_idx:\n",
    "                logging_dict[f\"Predicted Mask d{d} c{slice_id}\"] = self.__create_plot(\n",
    "                    self.wandb_on,\n",
    "                    probs[i].numpy(),\n",
    "                    caption=f\"Epoch {epoch}\",\n",
    "                    color_range=self.color_range,\n",
    "                    # fig_path=f'/om2/user/sabeen/test_imgs/predicted_mask_d{d}_c{slice_id}_fs.png'\n",
    "                )\n",
    "                i += 1\n",
    "        current_logging_dict = self.logging_dict | logging_dict\n",
    "        if self.wandb_on:\n",
    "            wandb.log(current_logging_dict, commit=commit)\n",
    "        \n",
    "        if self.writer is not None:\n",
    "            print('Logging images...')\n",
    "            # only log raw image and true mask once\n",
    "            if epoch == 1:\n",
    "                for key, img in self.logging_dict.items():\n",
    "                    img = np.array(img)\n",
    "                    if len(img.shape) == 3:\n",
    "                        self.writer.add_image(key, np.array(img), epoch, dataformats='HWC')\n",
    "                    elif len(img.shape) == 2:\n",
    "                        self.writer.add_image(key, np.array(img), epoch, dataformats='HW')\n",
    "            \n",
    "            # log predicted masks each time\n",
    "            for key, img in logging_dict.items():\n",
    "                img = np.array(img)\n",
    "                if len(img.shape) == 3:\n",
    "                    self.writer.add_image(key, np.array(img), epoch, dataformats='HWC')\n",
    "                elif len(img.shape) == 2:\n",
    "                    self.writer.add_image(key, np.array(img), epoch, dataformats='HW')\n",
    "    \n",
    "\n",
    "def __create_plot(\n",
    "    wandb_on,\n",
    "    image: np.array,\n",
    "    caption: str,\n",
    "    color_range = None,\n",
    "    fig_path: str = None,\n",
    "):\n",
    "    if fig_path is not None and len(fig_path.split('.')) == 1:\n",
    "        fig_path = fig_path + '.png'\n",
    "        \n",
    "    if color_range is not None:\n",
    "        image = image.astype(np.uint8)\n",
    "        channels = [cv2.LUT(image, color_range[:,i]) for i in range(3)]\n",
    "        new_img = np.dstack(channels)\n",
    "    \n",
    "        if fig_path is not None:\n",
    "            new_img_bgr = np.dstack([channels[2],channels[1],channels[0]])\n",
    "            cv2.imwrite(fig_path,new_img_bgr)\n",
    "        image = Image.fromarray(np.uint8(new_img))\n",
    "    else:\n",
    "        img_min = np.min(image)\n",
    "        img_max = np.max(image)\n",
    "        new_img = ((image - img_min) / (img_max - img_min) * 255).astype(np.uint8)\n",
    "        if fig_path is not None:\n",
    "            cv2.imwrite(fig_path,new_img)\n",
    "        image = Image.fromarray(np.uint8(new_img))\n",
    "    if wandb_on:\n",
    "            image = wandb.Image(image, caption=caption)\n",
    "    return image\n",
    "    \n",
    "def __extract_numbers_names_colors(FreeSurferColorLUT=''):\n",
    "    \"\"\"\n",
    "    Extract lists of numbers, names, and colors representing anatomical brain\n",
    "    regions from FreeSurfer's FreeSurferColorLUT.txt lookup table file.\n",
    "\n",
    "    Parameters\n",
    "    ----------\n",
    "    FreeSurferColorLUT : string\n",
    "        full path to FreeSurferColorLUT.txt file (else uses local Python file)\n",
    "\n",
    "    Returns\n",
    "    -------\n",
    "    numbers : list of integers\n",
    "        numbers representing anatomical labels from FreeSurferColorLUT.txt\n",
    "    names : list of integers\n",
    "        names for anatomical regions from FreeSurferColorLUT.txt\n",
    "    colors : list of integers\n",
    "        colors associated with anatomical labels from FreeSurferColorLUT.txt\n",
    "\n",
    "    Examples\n",
    "    --------\n",
    "    >>> from mindboggle.mio.labels import extract_numbers_names_colors # doctest: +SKIP\n",
    "    >>> ennc = extract_numbers_names_colors # doctest: +SKIP\n",
    "    >>> en1,en2,ec = ennc('/Applications/freesurfer/FreeSurferColorLUT.txt') # doctest: +SKIP\n",
    "\n",
    "    \"\"\"\n",
    "    import os\n",
    "    from io import open\n",
    "\n",
    "    # from ext.mindboggle.FreeSurferColorLUT import lut_text\n",
    "\n",
    "    def is_number(s):\n",
    "        try:\n",
    "            int(s)\n",
    "            return True\n",
    "        except ValueError:\n",
    "            return False\n",
    "\n",
    "    # if os.environ['FREESURFER_HOME']:\n",
    "    #     FreeSurferColorLUT = os.path.join(\n",
    "    #              os.environ['FREESURFER_HOME'], 'FreeSurferColorLUT.txt')\n",
    "\n",
    "    if FreeSurferColorLUT and os.path.exists(FreeSurferColorLUT):\n",
    "        f = open(FreeSurferColorLUT, 'r')\n",
    "        lines = f.readlines()\n",
    "    # else:\n",
    "    #     lut = lut_text()\n",
    "    #     lines = lut.split('\\n')\n",
    "\n",
    "    numbers = []\n",
    "    names = []\n",
    "    colors = []\n",
    "    for line in lines:\n",
    "        strings = line.split()\n",
    "        if strings and is_number(strings[0]):\n",
    "            numbers.append(int(strings[0]))\n",
    "            names.append(strings[1])\n",
    "            colors.append([int(strings[2]), int(strings[3]),\n",
    "                        int(strings[4])])\n",
    "\n",
    "    return numbers, names, colors\n",
    "\n",
    "def __rgb_map_for_data(nr_of_classes):\n",
    "    _, fs_names, fs_colors = __extract_numbers_names_colors(\n",
    "        \"/om2/user/sabeen/freesurfer/distribution/FreeSurferColorLUT.txt\"\n",
    "    )\n",
    "\n",
    "    with open(\"/om2/user/sabeen/readme\", \"r\") as f:\n",
    "        voxmorph_label_index = f.read().splitlines()\n",
    "\n",
    "    # get the last 24 lines of the readme file (format--> id: name)\n",
    "    if nr_of_classes == 50:\n",
    "        voxmorph_label_index = [\n",
    "            item.strip().split(\":\")\n",
    "            for item in voxmorph_label_index[200:250]\n",
    "            if item != \"\"\n",
    "        ]  # HACK\n",
    "    elif nr_of_classes == 106:\n",
    "        voxmorph_label_index = [\n",
    "            item.strip().split(\":\")\n",
    "            for item in voxmorph_label_index[91:197]\n",
    "            if item != \"\"\n",
    "        ]  # HACK\n",
    "    elif nr_of_classes == 6:\n",
    "        voxmorph_label_index = [\n",
    "            item.strip().split(\":\")\n",
    "            for item in voxmorph_label_index[253:259]\n",
    "            if item != \"\"\n",
    "        ]  # HACK\n",
    "    elif nr_of_classes == 2:\n",
    "        voxmorph_label_index = [\n",
    "            item.strip().split(\":\")\n",
    "            for item in voxmorph_label_index[262:264]\n",
    "            if item != \"\"\n",
    "        ]  # HACK\n",
    "    elif nr_of_classes == 16:\n",
    "        voxmorph_label_index = [\n",
    "            item.strip().split(\":\")\n",
    "            for item in voxmorph_label_index[266:282]\n",
    "            if item != \"\"\n",
    "        ]  # HACK\n",
    "    else:\n",
    "        raise Exception(f\"coloring for nr_of_classes = {nr_of_classes} not found\")\n",
    "    \n",
    "    voxmorph_label_index = [\n",
    "        [int(item[0]), item[1].strip()] for item in voxmorph_label_index\n",
    "    ]\n",
    "    voxmorph_label_index_dict = dict(voxmorph_label_index)\n",
    "    my_colors = [\n",
    "        fs_colors[fs_names.index(item)] for item in voxmorph_label_index_dict.values()\n",
    "    ]\n",
    "\n",
    "    return np.array(my_colors)"
   ]
  },
  {
   "cell_type": "code",
   "execution_count": 6,
   "id": "3e71367e-6f5b-437d-bae8-57441705899c",
   "metadata": {},
   "outputs": [],
   "source": [
    "data_dir = '/om2/user/sabeen/nobrainer_data_norm/new_small_no_aug_51'\n",
    "aug_dir = '/om2/user/sabeen/nobrainer_data_norm/20240205_test'\n",
    "mode = 'test'"
   ]
  },
  {
   "cell_type": "code",
   "execution_count": 7,
   "id": "fdda8fd4-65f6-44a2-b55d-95ed545b84c2",
   "metadata": {},
   "outputs": [],
   "source": [
    "images = sorted(glob.glob(f\"{data_dir}/{mode}/brain*.npy\"))\n",
    "masks = sorted(glob.glob(f\"{data_dir}/{mode}/mask*.npy\"))\n",
    "affines = sorted(glob.glob(f\"{aug_dir}/{mode}/affine*.npy\"))"
   ]
  },
  {
   "cell_type": "code",
   "execution_count": 9,
   "id": "430c07b5-c94a-4d19-b6d3-52acd14f1a3f",
   "metadata": {},
   "outputs": [
    {
     "data": {
      "text/plain": [
       "False"
      ]
     },
     "execution_count": 9,
     "metadata": {},
     "output_type": "execute_result"
    }
   ],
   "source": [
    "len(images) == len(masks) == len(affines)"
   ]
  },
  {
   "cell_type": "code",
   "execution_count": 10,
   "id": "02df84b8-836d-434c-866d-91d3e17e498c",
   "metadata": {},
   "outputs": [],
   "source": [
    "colors = __rgb_map_for_data(51)\n",
    "color_range = np.zeros((256,3))\n",
    "color_range[:colors.shape[0],:] = colors"
   ]
  },
  {
   "cell_type": "code",
   "execution_count": 12,
   "id": "82aacb88-ef77-454c-8ceb-3da8739bb5af",
   "metadata": {},
   "outputs": [],
   "source": [
    "idx = 0\n",
    "image = np.load(images[idx])\n",
    "mask = np.load(masks[idx])\n",
    "affine = np.load(affines[idx])"
   ]
  },
  {
   "cell_type": "code",
   "execution_count": 13,
   "id": "f071483b-ea2e-4728-9ab1-84fc75a2a6d0",
   "metadata": {},
   "outputs": [
    {
     "data": {
      "image/jpeg": "[encoded data removed]",
      "image/png": "[encoded data removed]",
      "text/plain": [
       "<PIL.Image.Image image mode=RGB size=194x162>"
      ]
     },
     "execution_count": 13,
     "metadata": {},
     "output_type": "execute_result"
    }
   ],
   "source": [
    "__create_plot(False,mask.squeeze().astype(np.uint8),'',color_range=color_range)"
   ]
  },
  {
   "cell_type": "code",
   "execution_count": 14,
   "id": "13c5938d-8af8-46e6-8e71-f9a2e9d57149",
   "metadata": {},
   "outputs": [],
   "source": [
    "m = affine_transform(mask.squeeze().astype(np.uint8),affine,order=0)"
   ]
  },
  {
   "cell_type": "code",
   "execution_count": 15,
   "id": "ed8db589-d8ed-4ced-a1e8-f8de3769339a",
   "metadata": {},
   "outputs": [
    {
     "data": {
      "image/jpeg": "[encoded data removed]",
      "image/png": "[encoded data removed]",
      "text/plain": [
       "<PIL.Image.Image image mode=RGB size=194x162>"
      ]
     },
     "execution_count": 15,
     "metadata": {},
     "output_type": "execute_result"
    }
   ],
   "source": [
    "__create_plot(False,m,'',color_range=color_range)"
   ]
  },
  {
   "cell_type": "code",
   "execution_count": 142,
   "id": "540271af-f5e1-48f6-8d37-ec4689a8447d",
   "metadata": {},
   "outputs": [
    {
     "data": {
      "text/plain": [
       "(1, 162, 194)"
      ]
     },
     "execution_count": 142,
     "metadata": {},
     "output_type": "execute_result"
    }
   ],
   "source": [
    "torch.from_numpy(m).unsqueeze(dim=0).shape"
   ]
  },
  {
   "cell_type": "code",
   "execution_count": null,
   "id": "8057eb70-faf4-4202-9360-01535d21ec2a",
   "metadata": {},
   "outputs": [],
   "source": []
  },
  {
   "cell_type": "code",
   "execution_count": null,
   "id": "90c136f8-643d-4b7c-8b02-a829d1cd9dba",
   "metadata": {},
   "outputs": [],
   "source": []
  },
  {
   "cell_type": "code",
   "execution_count": 34,
   "id": "a8810712-1bf1-4ebd-9b8b-ef0984614cc8",
   "metadata": {},
   "outputs": [],
   "source": [
    "def create_affine_transformation_matrix(\n",
    "    n_dims, scaling=None, rotation=None, shearing=None, translation=None\n",
    "):\n",
    "    \"\"\"\n",
    "    From https://github.com/MGH-LEMoN/photo-reconstruction/blob/main/scripts/hcp_replicate_photos.py#L85C40-L85C40.\n",
    "    Create a 4x4 affine transformation matrix from specified values\n",
    "    :param n_dims: integer\n",
    "    :param scaling: list of 3 scaling values\n",
    "    :param rotation: list of 3 angles (degrees) for rotations around 1st, 2nd, 3rd axis\n",
    "    :param shearing: list of 6 shearing values\n",
    "    :param translation: list of 3 values\n",
    "    :return: 4x4 numpy matrix\n",
    "    \"\"\"\n",
    "\n",
    "    T_scaling = np.eye(n_dims + 1)\n",
    "    T_shearing = np.eye(n_dims + 1)\n",
    "    T_translation = np.eye(n_dims + 1)\n",
    "\n",
    "    if scaling is not None:\n",
    "        T_scaling[np.arange(n_dims + 1), np.arange(n_dims + 1)] = np.append(\n",
    "            scaling, 1\n",
    "        )\n",
    "\n",
    "    if shearing is not None:\n",
    "        shearing_index = np.ones((n_dims + 1, n_dims + 1), dtype=\"bool\")\n",
    "        shearing_index[np.eye(n_dims + 1, dtype=\"bool\")] = False\n",
    "        shearing_index[-1, :] = np.zeros((n_dims + 1))\n",
    "        shearing_index[:, -1] = np.zeros((n_dims + 1))\n",
    "        T_shearing[shearing_index] = shearing\n",
    "\n",
    "    if translation is not None:\n",
    "        T_translation[\n",
    "            np.arange(n_dims), n_dims * np.ones(n_dims, dtype=\"int\")\n",
    "        ] = translation\n",
    "\n",
    "    if n_dims == 2:\n",
    "        if rotation is None:\n",
    "            rotation = np.zeros(1)\n",
    "        else:\n",
    "            rotation = np.asarray(rotation) * (np.pi / 180)\n",
    "        T_rot = np.eye(n_dims + 1)\n",
    "        T_rot[np.array([0, 1, 0, 1]), np.array([0, 0, 1, 1])] = [\n",
    "            np.cos(rotation[0]),\n",
    "            np.sin(rotation[0]),\n",
    "            np.sin(rotation[0]) * -1,\n",
    "            np.cos(rotation[0]),\n",
    "        ]\n",
    "        return T_translation @ T_rot @ T_shearing @ T_scaling\n",
    "\n",
    "    else:\n",
    "\n",
    "        if rotation is None:\n",
    "            rotation = np.zeros(n_dims)\n",
    "        else:\n",
    "            rotation = np.asarray(rotation) * (np.pi / 180)\n",
    "        T_rot1 = np.eye(n_dims + 1)\n",
    "        T_rot1[np.array([1, 2, 1, 2]), np.array([1, 1, 2, 2])] = [\n",
    "            np.cos(rotation[0]),\n",
    "            np.sin(rotation[0]),\n",
    "            np.sin(rotation[0]) * -1,\n",
    "            np.cos(rotation[0]),\n",
    "        ]\n",
    "        T_rot2 = np.eye(n_dims + 1)\n",
    "        T_rot2[np.array([0, 2, 0, 2]), np.array([0, 0, 2, 2])] = [\n",
    "            np.cos(rotation[1]),\n",
    "            np.sin(rotation[1]) * -1,\n",
    "            np.sin(rotation[1]),\n",
    "            np.cos(rotation[1]),\n",
    "        ]\n",
    "        T_rot3 = np.eye(n_dims + 1)\n",
    "        T_rot3[np.array([0, 1, 0, 1]), np.array([0, 0, 1, 1])] = [\n",
    "            np.cos(rotation[2]),\n",
    "            np.sin(rotation[2]),\n",
    "            np.sin(rotation[2]) * -1,\n",
    "            np.cos(rotation[2]),\n",
    "        ]\n",
    "        return T_translation @ T_rot3 @ T_rot2 @ T_rot1 @ T_shearing @ T_scaling"
   ]
  },
  {
   "cell_type": "code",
   "execution_count": 82,
   "id": "7d3311bb-ecf8-4e73-be02-9f9b8c1cd620",
   "metadata": {},
   "outputs": [],
   "source": [
    "image = np.load(images[0]).squeeze()\n",
    "mask = np.load(masks[0]).squeeze()\n",
    "center = np.array([image.shape[0] // 2, image.shape[1] // 2])\n",
    "\n",
    "rotation = np.array([45])\n",
    "rotation_matrix = create_affine_transformation_matrix(n_dims = 2,\n",
    "                                            scaling = None,\n",
    "                                            rotation = rotation,\n",
    "                                            shearing = None,\n",
    "                                            translation = None)\n",
    "\n",
    "# Translate the center back to the origin\n",
    "translation_matrix1 = np.array([[1, 0, -center[0]],\n",
    "                                [0, 1, -center[1]],\n",
    "                                [0, 0, 1]])\n",
    "\n",
    "# Translate the center to the original position\n",
    "translation_matrix2 = np.array([[1, 0, center[0]],\n",
    "                                [0, 1, center[1]],\n",
    "                                [0, 0, 1]])\n",
    "\n",
    "final_matrix = translation_matrix2 @ rotation_matrix @ translation_matrix1"
   ]
  },
  {
   "cell_type": "code",
   "execution_count": 44,
   "id": "94e8ac09-836f-4bf6-b547-dd75b57da516",
   "metadata": {},
   "outputs": [],
   "source": [
    "rotated = affine_transform(mask.squeeze(),final_matrix,mode=\"constant\",order=0)"
   ]
  },
  {
   "cell_type": "code",
   "execution_count": 84,
   "id": "97d1d308-30a4-4c98-b558-0cb403a9542d",
   "metadata": {},
   "outputs": [
    {
     "data": {
      "image/jpeg": "[encoded data removed]",
      "image/png": "[encoded data removed]",
      "text/plain": [
       "<PIL.Image.Image image mode=RGB size=194x162>"
      ]
     },
     "execution_count": 84,
     "metadata": {},
     "output_type": "execute_result"
    }
   ],
   "source": [
    "__create_plot(False,rotated.astype(np.uint8),'',color_range=color_range)"
   ]
  },
  {
   "cell_type": "code",
   "execution_count": 83,
   "id": "d85da3b5-6bb5-48e5-bde0-37d8f90afb92",
   "metadata": {},
   "outputs": [
    {
     "data": {
      "image/jpeg": "[encoded data removed]",
      "image/png": "[encoded data removed]",
      "text/plain": [
       "<PIL.Image.Image image mode=RGB size=194x162>"
      ]
     },
     "execution_count": 83,
     "metadata": {},
     "output_type": "execute_result"
    }
   ],
   "source": [
    "__create_plot(False,mask.astype(np.uint8),'',color_range=color_range)"
   ]
  },
  {
   "cell_type": "code",
   "execution_count": 141,
   "id": "5822638c-ffc5-4b99-9644-3bd6c0b1b71c",
   "metadata": {},
   "outputs": [],
   "source": []
  },
  {
   "cell_type": "code",
   "execution_count": 142,
   "id": "c3b75aa5-f9d0-4f74-b937-98d6f682c5f1",
   "metadata": {},
   "outputs": [
    {
     "data": {
      "image/jpeg": "[encoded data removed]",
      "image/png": "[encoded data removed]",
      "text/plain": [
       "<PIL.Image.Image image mode=RGB size=194x162>"
      ]
     },
     "execution_count": 142,
     "metadata": {},
     "output_type": "execute_result"
    }
   ],
   "source": [
    "__create_plot(False,zoomed_and_rotated_image.astype(np.uint8),'',color_range=color_range)"
   ]
  },
  {
   "cell_type": "code",
   "execution_count": 128,
   "id": "2f0be34e-3dff-43c2-a889-5591594fb802",
   "metadata": {},
   "outputs": [],
   "source": []
  },
  {
   "cell_type": "code",
   "execution_count": 132,
   "id": "f37c74f8-8844-489a-8444-e6f437083942",
   "metadata": {},
   "outputs": [
    {
     "data": {
      "text/plain": [
       "array([81., 97.])"
      ]
     },
     "execution_count": 132,
     "metadata": {},
     "output_type": "execute_result"
    }
   ],
   "source": [
    "center"
   ]
  },
  {
   "cell_type": "markdown",
   "id": "98def884-4bf8-4efb-b747-0481d916a18d",
   "metadata": {},
   "source": [
    "### Zooms"
   ]
  },
  {
   "cell_type": "code",
   "execution_count": 8,
   "id": "073874ea-34b7-4bac-be1c-28c51edb7c6e",
   "metadata": {},
   "outputs": [],
   "source": [
    "data_dir = '/om2/user/sabeen/nobrainer_data_norm/new_small_no_aug_51'\n",
    "aug_dir = '/om2/user/sabeen/nobrainer_data_norm/20240202_small_aug_51'\n",
    "mode = 'test'"
   ]
  },
  {
   "cell_type": "code",
   "execution_count": 9,
   "id": "ce63f094-32df-4cc1-b2ed-e16195a31643",
   "metadata": {},
   "outputs": [],
   "source": [
    "images = sorted(glob.glob(f\"{data_dir}/{mode}/brain*.npy\"))\n",
    "masks = sorted(glob.glob(f\"{data_dir}/{mode}/mask*.npy\"))"
   ]
  },
  {
   "cell_type": "code",
   "execution_count": null,
   "id": "2596758a-e15d-45c7-8ad8-173e391d451e",
   "metadata": {},
   "outputs": [],
   "source": []
  },
  {
   "cell_type": "code",
   "execution_count": 12,
   "id": "decc7d29-4415-401c-93a1-c0c9a3ff5464",
   "metadata": {},
   "outputs": [],
   "source": [
    "LABELS_SHAPE = [256, 256,256]\n",
    "def generate_small_bias(spacing):\n",
    "    bias_shape_factor = [0.025, 1 / spacing, 0.025]\n",
    "    bias_field_std = 0.5\n",
    "\n",
    "    small_bias_size = np.ceil(\n",
    "        np.multiply(LABELS_SHAPE, bias_shape_factor)\n",
    "    ).astype(int)\n",
    "\n",
    "    small_bias = (\n",
    "        bias_field_std\n",
    "        * np.random.uniform(size=[1])\n",
    "        * np.random.normal(size=small_bias_size)\n",
    "    )\n",
    "\n",
    "    factors = np.divide(1.0, bias_shape_factor).tolist()\n",
    "\n",
    "    return small_bias, factors"
   ]
  },
  {
   "cell_type": "code",
   "execution_count": 14,
   "id": "24a9d415-d547-48a9-8435-4dcca91080ba",
   "metadata": {},
   "outputs": [],
   "source": [
    "small_bias, bias_factors = generate_small_bias(2)"
   ]
  },
  {
   "cell_type": "code",
   "execution_count": 19,
   "id": "432ea631-4b9a-4f61-9ab1-25b3e72306d8",
   "metadata": {},
   "outputs": [
    {
     "data": {
      "text/plain": [
       "[40.0, 2.0, 40.0]"
      ]
     },
     "execution_count": 19,
     "metadata": {},
     "output_type": "execute_result"
    }
   ],
   "source": [
    "bias_factors"
   ]
  },
  {
   "cell_type": "code",
   "execution_count": null,
   "id": "0e479dd8-813d-43e9-abbf-d5ee56136eed",
   "metadata": {},
   "outputs": [],
   "source": []
  },
  {
   "cell_type": "code",
   "execution_count": null,
   "id": "9b995d78-a78b-48ea-b0a6-8f2f92417fa7",
   "metadata": {},
   "outputs": [],
   "source": []
  },
  {
   "cell_type": "code",
   "execution_count": 199,
   "id": "e9788dd3-f60e-4ac1-8807-23c15663d42f",
   "metadata": {},
   "outputs": [],
   "source": [
    "# Calculate the center of the image\n",
    "center = np.array(mask.shape) / 2.0\n",
    "\n",
    "# Generate a 2x2 rotation matrix\n",
    "rotation_angle = 45\n",
    "rotation_matrix = np.array([[np.cos(np.radians(rotation_angle)), -np.sin(np.radians(rotation_angle))],\n",
    "                            [np.sin(np.radians(rotation_angle)), np.cos(np.radians(rotation_angle))]])\n",
    "\n",
    "# Generate a 2x2 scaling matrix\n",
    "scaling_factor = 2\n",
    "scaling_matrix = np.array([[scaling_factor, 0], [0, scaling_factor]])\n",
    "\n",
    "# Combine the transformations into a single affine matrix\n",
    "combined_affine_matrix = np.dot(rotation_matrix, scaling_matrix)\n",
    "\n",
    "# Calculate the new center after applying the transformation\n",
    "new_center = np.dot(scaling_matrix, center)\n",
    "\n",
    "# Calculate the offset for the affine transformation\n",
    "offset = center - new_center\n",
    "\n",
    "# Apply the affine transformation using scipy.ndimage.affine_transform\n",
    "zoomed_and_rotated_image = affine_transform(mask, scaling_matrix,offset=offset,order=0)"
   ]
  },
  {
   "cell_type": "code",
   "execution_count": 200,
   "id": "81fe99aa-754f-48a6-9b9b-9f35e212ae95",
   "metadata": {},
   "outputs": [
    {
     "data": {
      "image/jpeg": "[encoded data removed]",
      "image/png": "[encoded data removed]",
      "text/plain": [
       "<PIL.Image.Image image mode=RGB size=194x162>"
      ]
     },
     "execution_count": 200,
     "metadata": {},
     "output_type": "execute_result"
    }
   ],
   "source": [
    "__create_plot(False,zoomed_and_rotated_image.astype(np.uint8),'',color_range=color_range)"
   ]
  },
  {
   "cell_type": "code",
   "execution_count": 186,
   "id": "59f212c1-7472-40ec-9391-cedccd99932a",
   "metadata": {},
   "outputs": [],
   "source": [
    "# Translate the center back to the origin\n",
    "translation_matrix1 = np.array([[1, 0, -center[0]],\n",
    "                                [0, 1, -center[1]],\n",
    "                                [0, 0, 1]])\n",
    "\n",
    "# Translate the center to the original position\n",
    "translation_matrix2 = np.array([[1, 0, center[0]],\n",
    "                                [0, 1, center[1]],\n",
    "                                [0, 0, 1]])"
   ]
  },
  {
   "cell_type": "code",
   "execution_count": 207,
   "id": "b4dfc6f9-cbd8-4d53-af58-6e972b0fb2b8",
   "metadata": {},
   "outputs": [],
   "source": [
    "rotation_matrix = np.array([[np.cos(np.radians(rotation_angle)), -np.sin(np.radians(rotation_angle)),0],\n",
    "                            [np.sin(np.radians(rotation_angle)), np.cos(np.radians(rotation_angle)),0],\n",
    "                            [0,0,1]])"
   ]
  },
  {
   "cell_type": "code",
   "execution_count": 213,
   "id": "21bb6901-3212-4fc3-aada-acdd40e4f61f",
   "metadata": {},
   "outputs": [],
   "source": [
    "# Generate a 2x2 scaling matrix\n",
    "scaling_factor = 1/2\n",
    "scaling_matrix = np.array([[scaling_factor, 0,0], [0, scaling_factor,0],[0,0,1]])"
   ]
  },
  {
   "cell_type": "code",
   "execution_count": 214,
   "id": "5175a89b-98d2-4b0d-8ea3-23589bacafd3",
   "metadata": {},
   "outputs": [],
   "source": [
    "final_matrix = translation_matrix2 @ scaling_matrix @ rotation_matrix @ translation_matrix1"
   ]
  },
  {
   "cell_type": "code",
   "execution_count": 215,
   "id": "0165fb14-4002-46c7-a622-70add3177379",
   "metadata": {},
   "outputs": [
    {
     "data": {
      "image/jpeg": "[encoded data removed]",
      "image/png": "[encoded data removed]",
      "text/plain": [
       "<PIL.Image.Image image mode=RGB size=194x162>"
      ]
     },
     "execution_count": 215,
     "metadata": {},
     "output_type": "execute_result"
    }
   ],
   "source": [
    "__create_plot(False,affine_transform(mask, final_matrix,order=0),'',color_range=color_range)"
   ]
  },
  {
   "cell_type": "code",
   "execution_count": 185,
   "id": "d662ecad-f09a-41ff-ada1-6e59a2dbc259",
   "metadata": {},
   "outputs": [],
   "source": [
    "new_cent = np.dot(rotation_matrix, [center[0],center[1],0])"
   ]
  },
  {
   "cell_type": "code",
   "execution_count": 181,
   "id": "615b1791-3581-4922-a266-cf63f3262a41",
   "metadata": {},
   "outputs": [],
   "source": [
    "off = (center[0] - new_cent[0], center[1] - new_cent[1])"
   ]
  },
  {
   "cell_type": "code",
   "execution_count": null,
   "id": "08d693ce-03e0-49d3-907a-48dea78a3d88",
   "metadata": {},
   "outputs": [],
   "source": []
  },
  {
   "cell_type": "code",
   "execution_count": 263,
   "id": "b31f4be4-138c-4ac6-913f-217b6af922fb",
   "metadata": {},
   "outputs": [],
   "source": [
    "def create_affine_transformation_matrix(\n",
    "    n_dims, scaling=None, rotation=None, shearing=None, translation=None\n",
    "):\n",
    "    \"\"\"\n",
    "    From https://github.com/MGH-LEMoN/photo-reconstruction/blob/main/scripts/hcp_replicate_photos.py#L85C40-L85C40.\n",
    "    Create a 4x4 affine transformation matrix from specified values\n",
    "    :param n_dims: integer\n",
    "    :param scaling: list of 3 scaling values\n",
    "    :param rotation: list of 3 angles (degrees) for rotations around 1st, 2nd, 3rd axis\n",
    "    :param shearing: list of 6 shearing values\n",
    "    :param translation: list of 3 values\n",
    "    :return: 4x4 numpy matrix\n",
    "    \"\"\"\n",
    "\n",
    "    T_scaling = np.eye(n_dims + 1)\n",
    "    T_shearing = np.eye(n_dims + 1)\n",
    "    T_translation = np.eye(n_dims + 1)\n",
    "\n",
    "    if scaling is not None:\n",
    "        T_scaling[np.arange(n_dims + 1), np.arange(n_dims + 1)] = np.append(\n",
    "            scaling, 1\n",
    "        )\n",
    "\n",
    "    if shearing is not None:\n",
    "        shearing_index = np.ones((n_dims + 1, n_dims + 1), dtype=\"bool\")\n",
    "        shearing_index[np.eye(n_dims + 1, dtype=\"bool\")] = False\n",
    "        shearing_index[-1, :] = np.zeros((n_dims + 1))\n",
    "        shearing_index[:, -1] = np.zeros((n_dims + 1))\n",
    "        T_shearing[shearing_index] = shearing\n",
    "\n",
    "    if translation is not None:\n",
    "        T_translation[\n",
    "            np.arange(n_dims), n_dims * np.ones(n_dims, dtype=\"int\")\n",
    "        ] = translation\n",
    "\n",
    "    if n_dims == 2:\n",
    "        if rotation is None:\n",
    "            rotation = np.zeros(1)\n",
    "        else:\n",
    "            rotation = np.asarray(rotation) * (np.pi / 180)\n",
    "        T_rot = np.eye(n_dims + 1)\n",
    "        T_rot[np.array([0, 1, 0, 1]), np.array([0, 0, 1, 1])] = [\n",
    "            np.cos(rotation[0]),\n",
    "            np.sin(rotation[0]),\n",
    "            np.sin(rotation[0]) * -1,\n",
    "            np.cos(rotation[0]),\n",
    "        ]\n",
    "        return T_translation @ T_rot @ T_shearing @ T_scaling\n",
    "\n",
    "    else:\n",
    "\n",
    "        if rotation is None:\n",
    "            rotation = np.zeros(n_dims)\n",
    "        else:\n",
    "            rotation = np.asarray(rotation) * (np.pi / 180)\n",
    "        T_rot1 = np.eye(n_dims + 1)\n",
    "        T_rot1[np.array([1, 2, 1, 2]), np.array([1, 1, 2, 2])] = [\n",
    "            np.cos(rotation[0]),\n",
    "            np.sin(rotation[0]),\n",
    "            np.sin(rotation[0]) * -1,\n",
    "            np.cos(rotation[0]),\n",
    "        ]\n",
    "        T_rot2 = np.eye(n_dims + 1)\n",
    "        T_rot2[np.array([0, 2, 0, 2]), np.array([0, 0, 2, 2])] = [\n",
    "            np.cos(rotation[1]),\n",
    "            np.sin(rotation[1]) * -1,\n",
    "            np.sin(rotation[1]),\n",
    "            np.cos(rotation[1]),\n",
    "        ]\n",
    "        T_rot3 = np.eye(n_dims + 1)\n",
    "        T_rot3[np.array([0, 1, 0, 1]), np.array([0, 0, 1, 1])] = [\n",
    "            np.cos(rotation[2]),\n",
    "            np.sin(rotation[2]),\n",
    "            np.sin(rotation[2]) * -1,\n",
    "            np.cos(rotation[2]),\n",
    "        ]\n",
    "        return T_translation @ T_rot3 @ T_rot2 @ T_rot1 @ T_shearing @ T_scaling"
   ]
  },
  {
   "cell_type": "code",
   "execution_count": 279,
   "id": "e22dedc4-84fd-4fcd-a82f-3cb3dee7931b",
   "metadata": {},
   "outputs": [],
   "source": [
    "aff = create_affine_transformation_matrix(n_dims = 2,\n",
    "                                    scaling = (2,1/2),\n",
    "                                    rotation = rotation,\n",
    "                                    shearing = None,\n",
    "                                    translation = None)"
   ]
  },
  {
   "cell_type": "code",
   "execution_count": 280,
   "id": "db509626-3466-4b87-99eb-5a221df030cb",
   "metadata": {},
   "outputs": [],
   "source": [
    "final = translation_matrix2 @ aff @ translation_matrix1"
   ]
  },
  {
   "cell_type": "code",
   "execution_count": 281,
   "id": "3761a578-56bd-4c16-8659-e17153090b40",
   "metadata": {},
   "outputs": [
    {
     "data": {
      "image/jpeg": "[encoded data removed]",
      "image/png": "[encoded data removed]",
      "text/plain": [
       "<PIL.Image.Image image mode=RGB size=194x162>"
      ]
     },
     "execution_count": 281,
     "metadata": {},
     "output_type": "execute_result"
    }
   ],
   "source": [
    "__create_plot(False,affine_transform(mask, final ,order=0),'',color_range=color_range)"
   ]
  },
  {
   "cell_type": "code",
   "execution_count": null,
   "id": "fdd31aeb-ed81-4cd5-ae85-151b9e6dded5",
   "metadata": {},
   "outputs": [],
   "source": []
  },
  {
   "cell_type": "code",
   "execution_count": null,
   "id": "eb5f3848-dc1e-4957-a543-53af74116feb",
   "metadata": {},
   "outputs": [],
   "source": []
  },
  {
   "cell_type": "code",
   "execution_count": 4,
   "id": "63c5790c-5679-420e-bd75-5449ba6aa93e",
   "metadata": {},
   "outputs": [],
   "source": [
    "# directory where images and masks are stored\n",
    "data_dir = '/om2/user/sabeen/nobrainer_data_norm/new_small_no_aug_51'\n",
    "\n",
    "# directory where affine matrices are stored\n",
    "aug_dir = '/om2/user/sabeen/nobrainer_data_norm/20240217_small_synth_aug'\n",
    "mode = 'test'\n",
    "\n",
    "images = sorted(glob.glob(f\"{data_dir}/{mode}/brain*.npy\"))\n",
    "masks = sorted(glob.glob(f\"{data_dir}/{mode}/mask*.npy\"))\n",
    "affines = sorted(glob.glob(f\"{aug_dir}/{mode}/affine*.npy\"))"
   ]
  },
  {
   "cell_type": "code",
   "execution_count": 5,
   "id": "0ce3ad6d-ce1b-4aea-b8ec-629b3062f77f",
   "metadata": {},
   "outputs": [
    {
     "data": {
      "text/plain": [
       "True"
      ]
     },
     "execution_count": 5,
     "metadata": {},
     "output_type": "execute_result"
    }
   ],
   "source": [
    "len(images) == len(masks) == len(affines)"
   ]
  },
  {
   "cell_type": "code",
   "execution_count": 35,
   "id": "28485529-cfd6-4d8a-921c-1f5b0838fef5",
   "metadata": {},
   "outputs": [],
   "source": [
    "index = 80\n",
    "brain = np.load(images[index])[0,:,:]\n",
    "mask = np.load(masks[index])[0,:,:]\n",
    "affine = np.load(affines[index])"
   ]
  },
  {
   "cell_type": "code",
   "execution_count": 51,
   "id": "be664a39-f5ab-432c-a8e7-efea0dad90cb",
   "metadata": {},
   "outputs": [
    {
     "data": {
      "image/jpeg": "[encoded data removed]",
      "image/png": "[encoded data removed]",
      "text/plain": [
       "<PIL.Image.Image image mode=RGB size=194x162>"
      ]
     },
     "execution_count": 51,
     "metadata": {},
     "output_type": "execute_result"
    }
   ],
   "source": [
    "colors = __rgb_map_for_data(51)\n",
    "color_range = np.zeros((256,3))\n",
    "color_range[:colors.shape[0],:] = colors\n",
    "\n",
    "new_mask = np.uint8(affine_transform(mask, affine ,order=0))\n",
    "__create_plot(False,new_mask,'',color_range=color_range)"
   ]
  },
  {
   "cell_type": "code",
   "execution_count": 52,
   "id": "7cad8086-4245-4f9a-9205-b02519664271",
   "metadata": {},
   "outputs": [
    {
     "data": {
      "image/jpeg": "[encoded data removed]",
      "image/png": "[encoded data removed]",
      "text/plain": [
       "<PIL.Image.Image image mode=RGB size=194x162>"
      ]
     },
     "execution_count": 52,
     "metadata": {},
     "output_type": "execute_result"
    }
   ],
   "source": [
    "__create_plot(False,np.uint8(mask),'',color_range=color_range)"
   ]
  },
  {
   "cell_type": "code",
   "execution_count": 68,
   "id": "0a8c9ae4-8b04-4b51-8664-395d24987b50",
   "metadata": {},
   "outputs": [
    {
     "data": {
      "image/jpeg": "[encoded data removed]",
      "image/png": "[encoded data removed]",
      "text/plain": [
       "<PIL.Image.Image image mode=RGB size=194x162>"
      ]
     },
     "execution_count": 68,
     "metadata": {},
     "output_type": "execute_result"
    }
   ],
   "source": [
    "__create_plot(False,np.uint8(torch.flip(torch.from_numpy(new_mask),dims=(1,))),'',color_range=color_range)"
   ]
  },
  {
   "cell_type": "code",
   "execution_count": 60,
   "id": "9ffe525d-05e4-4b05-840d-66b8f40af6fc",
   "metadata": {},
   "outputs": [
    {
     "data": {
      "text/plain": [
       "<module 'torch' from '/om2/user/sabeen/miniconda/lib/python3.9/site-packages/torch/__init__.py'>"
      ]
     },
     "execution_count": 60,
     "metadata": {},
     "output_type": "execute_result"
    }
   ],
   "source": []
  },
  {
   "cell_type": "code",
   "execution_count": 16,
   "id": "1bcdc00b-7108-4c49-9129-85af34859a69",
   "metadata": {},
   "outputs": [
    {
     "data": {
      "text/plain": [
       "(1, 162, 194)"
      ]
     },
     "execution_count": 16,
     "metadata": {},
     "output_type": "execute_result"
    }
   ],
   "source": [
    "np.uint8(affine_transform(mask, affine ,order=0)).shape"
   ]
  },
  {
   "cell_type": "code",
   "execution_count": 48,
   "id": "8b137393-1d79-4724-8e69-8cfe0f8cb170",
   "metadata": {},
   "outputs": [],
   "source": [
    "new_affine_matrix = np.eye(3)\n",
    "\n",
    "# Scale the x-axis by -1 to achieve horizontal flip\n",
    "new_affine_matrix[0, 0] *= -1"
   ]
  },
  {
   "cell_type": "code",
   "execution_count": 69,
   "id": "f33f66fc-e328-4bac-a9c0-5411495aa4ec",
   "metadata": {},
   "outputs": [
    {
     "data": {
      "text/plain": [
       "tensor([[0, 0, 0,  ..., 0, 0, 0],\n",
       "        [0, 0, 0,  ..., 0, 0, 0],\n",
       "        [0, 0, 0,  ..., 0, 0, 0],\n",
       "        ...,\n",
       "        [0, 0, 0,  ..., 0, 0, 0],\n",
       "        [0, 0, 0,  ..., 0, 0, 0],\n",
       "        [0, 0, 0,  ..., 0, 0, 0]], dtype=torch.uint8)"
      ]
     },
     "execution_count": 69,
     "metadata": {},
     "output_type": "execute_result"
    }
   ],
   "source": [
    "torch.flip(torch.from_numpy(new_mask),dims=(1,))"
   ]
  }
 ],
 "metadata": {
  "kernelspec": {
   "display_name": "Python 3 (ipykernel)",
   "language": "python",
   "name": "python3"
  },
  "language_info": {
   "codemirror_mode": {
    "name": "ipython",
    "version": 3
   },
   "file_extension": ".py",
   "mimetype": "text/x-python",
   "name": "python",
   "nbconvert_exporter": "python",
   "pygments_lexer": "ipython3",
   "version": "3.9.18"
  }
 },
 "nbformat": 4,
 "nbformat_minor": 5
}
